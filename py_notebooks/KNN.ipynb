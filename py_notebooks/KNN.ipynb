{
 "cells": [
  {
   "cell_type": "code",
   "execution_count": 1,
   "metadata": {
    "collapsed": false
   },
   "outputs": [],
   "source": [
    "import GPyOpt, numpy as np, seaborn as sns, matplotlib.pyplot as plt\n",
    "%matplotlib inline"
   ]
  },
  {
   "cell_type": "code",
   "execution_count": 2,
   "metadata": {
    "collapsed": false
   },
   "outputs": [
    {
     "name": "stdout",
     "output_type": "stream",
     "text": [
      "loading rnaseq data\n",
      "rnaseq_all_genes: (11216, 104)\n",
      "rnaseq_effector_genes: (1044, 104)\n",
      "rnaseq_mod_activities: (89, 104)\n",
      "rnaseq_mod_genevals: (172, 104)\n",
      "rnaseq_mod_nodevals: (462, 104)\n",
      "rnaseq_signaling_genes: (2184, 104)\n",
      "rnaseq_design: (104, 4)\n"
     ]
    }
   ],
   "source": [
    "%run collect_and_name_data.py rnaseq"
   ]
  },
  {
   "cell_type": "code",
   "execution_count": 4,
   "metadata": {
    "collapsed": true
   },
   "outputs": [],
   "source": [
    "from sklearn.neighbors import KNeighborsClassifier"
   ]
  },
  {
   "cell_type": "code",
   "execution_count": 5,
   "metadata": {
    "collapsed": true
   },
   "outputs": [],
   "source": [
    "KNeighborsClassifier?"
   ]
  },
  {
   "cell_type": "code",
   "execution_count": 3,
   "metadata": {
    "collapsed": true
   },
   "outputs": [],
   "source": [
    "from paramz import Model, Param"
   ]
  },
  {
   "cell_type": "code",
   "execution_count": 13,
   "metadata": {
    "collapsed": true
   },
   "outputs": [],
   "source": [
    "class ParamzKNN(Model):\n",
    "    def __init__(self, X, y, neighbours=1., name='ParamzSVC'):\n",
    "        super(ParamzKNN, self).__init__(name=name)\n",
    "\n",
    "        self.X = X\n",
    "        self.y = y\n",
    "        \n",
    "        self.neighbours = Param('neighbours', neighbours)\n",
    "        self.link_parameter(self.neighbours)\n",
    "        \n",
    "        self._accuracies = np.empty((10,5))\n",
    "        \n",
    "    def parameters_changed(self):\n",
    "        from sklearn.metrics import f1_score, accuracy_score\n",
    "        from sklearn.cross_validation import StratifiedKFold\n",
    "        from sklearn.neighbors import KNeighborsClassifier\n",
    "    \n",
    "    \n",
    "        for i in range(self._accuracies.shape[0]):\n",
    "            j = 0\n",
    "            for train_index, test_index in StratifiedKFold(train_labels, shuffle=True, n_folds=self._accuracies.shape[1]):\n",
    "                classifier = KNeighborsClassifier(n_neighbors=float(self.neighbours), n_jobs=3)\n",
    "                classifier = classifier.fit(self.X[train_index], self.y[train_index])\n",
    "                prediction = classifier.predict(self.X[test_index])\n",
    "                #self._obj += accuracy_score(self.y[test_index], prediction)\n",
    "                self._accuracies[i,j] = accuracy_score(self.y[test_index], prediction)\n",
    "                j += 1\n",
    "                \n",
    "        self._obj = self._accuracies.mean()\n",
    "\n",
    "        \n",
    "    def objective_function(self):\n",
    "        import numpy as np\n",
    "        #print self._obj,\n",
    "        return -np.atleast_1d(self._obj)"
   ]
  },
  {
   "cell_type": "code",
   "execution_count": 14,
   "metadata": {
    "collapsed": true
   },
   "outputs": [],
   "source": [
    "train_idx = design.Set == design.Set.unique()[0]\n",
    "test_idx = ~train_idx    \n",
    "\n",
    "train_labels = design.loc[train_idx, 'Effect']\n",
    "test_labels = design.loc[test_idx, 'Effect']"
   ]
  },
  {
   "cell_type": "code",
   "execution_count": 15,
   "metadata": {
    "collapsed": true
   },
   "outputs": [],
   "source": [
    "def get_train_test_set(data, train_idx, test_idx):\n",
    "    train_set = data.loc[:, train_idx].copy()\n",
    "    from sklearn.preprocessing import StandardScaler\n",
    "    normalizer = StandardScaler()\n",
    "    train_set[:] = normalizer.fit_transform(train_set.T).T\n",
    "\n",
    "    test_set = data.loc[:, test_idx].copy()\n",
    "    test_set[:] = normalizer.transform(test_set.T).T\n",
    "    \n",
    "    return train_set, test_set"
   ]
  },
  {
   "cell_type": "code",
   "execution_count": 16,
   "metadata": {
    "collapsed": false
   },
   "outputs": [],
   "source": [
    "def make_f(m):\n",
    "    def f(X):\n",
    "        ret = np.empty((X.shape[0],1))\n",
    "        for i in range(X.shape[0]):\n",
    "            ret[i] = m._objective(X[i])\n",
    "        return ret\n",
    "    return f"
   ]
  },
  {
   "cell_type": "code",
   "execution_count": null,
   "metadata": {
    "collapsed": false
   },
   "outputs": [
    {
     "name": "stdout",
     "output_type": "stream",
     "text": [
      "all_genes\n",
      "effector_genes"
     ]
    }
   ],
   "source": [
    "train_errors = {}\n",
    "\n",
    "for i in range(len(all_data)):\n",
    "    data = all_data[i]\n",
    "    print data.name\n",
    "    train_set, test_set = get_train_test_set(data, train_idx, test_idx)\n",
    "    \n",
    "    m = ParamzKNN(train_set.T.values, train_labels.values)\n",
    "    \n",
    "    fx_opt = np.inf#m.objective_function()\n",
    "    x_opt = np.nan#m.param_array.copy()\n",
    "    \n",
    "    for k in np.arange(3,10,1):\n",
    "        m.neighbours = k\n",
    "        if m.objective_function() < fx_opt:\n",
    "            fx_opt = m.objective_function()\n",
    "            x_opt = m.param_array.copy()\n",
    "    train_errors[data.name] = [fx_opt, x_opt]\n",
    "    #m_opt = GPyOpt.methods.BayesianOptimization(make_f(m), \n",
    "    #                                        bounds=[\n",
    "    #                                                (np.exp(-5),np.exp(15)),\n",
    "    #                                                (np.exp(-15),np.exp(5))\n",
    "    #                                                ], \n",
    "    #                                        model_optimize_restarts = 100,\n",
    "    #                                        normalize=True,\n",
    "    #                                        acquisition = 'EI',\n",
    "    #                                        type_initial_design='latin')\n",
    "    #print\n",
    "    #m_opt.run_optimization(500, eps=1e-5)\n",
    "    #print\n",
    "    #train_errors[data.name] = [m_opt.fx_opt, m_opt.x_opt]"
   ]
  },
  {
   "cell_type": "code",
   "execution_count": null,
   "metadata": {
    "collapsed": false
   },
   "outputs": [],
   "source": [
    "train_errors"
   ]
  },
  {
   "cell_type": "code",
   "execution_count": null,
   "metadata": {
    "collapsed": false
   },
   "outputs": [],
   "source": [
    "results = pd.DataFrame(columns=['acc', 'K'], \n",
    "                       index=train_errors.keys(),\n",
    "                       dtype=float)\n",
    "acc, cg = zip(*train_errors.values())\n",
    "results['acc'] = -np.concatenate(acc)\n",
    "results['K'] = cg"
   ]
  },
  {
   "cell_type": "code",
   "execution_count": 21,
   "metadata": {
    "collapsed": false
   },
   "outputs": [
    {
     "data": {
      "text/plain": [
       "<matplotlib.axes._subplots.AxesSubplot at 0x111d83690>"
      ]
     },
     "execution_count": 21,
     "metadata": {},
     "output_type": "execute_result"
    },
    {
     "data": {
      "image/png": "[encoded data removed]",
      "text/plain": [
       "<matplotlib.figure.Figure at 0x11073c310>"
      ]
     },
     "metadata": {},
     "output_type": "display_data"
    }
   ],
   "source": [
    "ax = results.plot(kind='bar', y='acc')\n",
    "ax.set_xlim()"
   ]
  },
  {
   "cell_type": "code",
   "execution_count": 206,
   "metadata": {
    "collapsed": false
   },
   "outputs": [
    {
     "name": "stdout",
     "output_type": "stream",
     "text": [
      "mod_genevalues\n"
     ]
    }
   ],
   "source": [
    "best = results.acc.idxmax(0)\n",
    "print best"
   ]
  },
  {
   "cell_type": "markdown",
   "metadata": {},
   "source": [
    "## Work on best training data:"
   ]
  },
  {
   "cell_type": "code",
   "execution_count": 207,
   "metadata": {
    "collapsed": true
   },
   "outputs": [],
   "source": [
    "svc = svm.SVC(C=results.loc[best, 'C'], \n",
    "                      gamma=results.loc[best, 'gamma'], \n",
    "                      kernel='rbf', \n",
    "                      decision_function_shape='ovr', \n",
    "                      probability=True, \n",
    "                      class_weight='balanced')"
   ]
  },
  {
   "cell_type": "code",
   "execution_count": 208,
   "metadata": {
    "collapsed": false
   },
   "outputs": [
    {
     "data": {
      "text/plain": [
       "SVC(C=3177106.1518320823, cache_size=200, class_weight='balanced', coef0=0.0,\n",
       "  decision_function_shape='ovr', degree=3, gamma=0.0068880455480137392,\n",
       "  kernel='rbf', max_iter=-1, probability=True, random_state=None,\n",
       "  shrinking=True, tol=0.001, verbose=False)"
      ]
     },
     "execution_count": 208,
     "metadata": {},
     "output_type": "execute_result"
    }
   ],
   "source": [
    "train_set, test_set = get_train_test_set(rnaseq_mod_genevalues, train_idx, test_idx)\n",
    "svc.fit(train_set.T.values, train_labels)"
   ]
  },
  {
   "cell_type": "code",
   "execution_count": 209,
   "metadata": {
    "collapsed": false
   },
   "outputs": [],
   "source": [
    "prediction_probabilities = pd.DataFrame(svc.predict_proba(test_set.T.values), index=test_set.columns, columns=svc.classes_)"
   ]
  },
  {
   "cell_type": "code",
   "execution_count": 210,
   "metadata": {
    "collapsed": true
   },
   "outputs": [],
   "source": [
    "test_labels.value_counts()\n",
    "test_labels_collected = test_labels.copy()\n",
    "test_labels_collected[(test_labels_collected=='Effect_6')+(test_labels_collected=='Effect_7')] = 'Unknown'\n",
    "#test_labels_collected = pd.get_dummies(test_labels_collected)"
   ]
  },
  {
   "cell_type": "markdown",
   "metadata": {},
   "source": [
    "## Roc curve for each class:"
   ]
  },
  {
   "cell_type": "code",
   "execution_count": 211,
   "metadata": {
    "collapsed": true
   },
   "outputs": [],
   "source": [
    "from sklearn.metrics import roc_curve, roc_auc_score, accuracy_score, precision_score, recall_score, f1_score"
   ]
  },
  {
   "cell_type": "code",
   "execution_count": 212,
   "metadata": {
    "collapsed": false
   },
   "outputs": [],
   "source": [
    "rocs = {}\n",
    "for c in prediction_probabilities.columns:\n",
    "    rocs[c] = roc_curve(test_labels_collected==c, prediction_probabilities[c])"
   ]
  },
  {
   "cell_type": "code",
   "execution_count": 213,
   "metadata": {
    "collapsed": false
   },
   "outputs": [
    {
     "data": {
      "text/plain": [
       "<matplotlib.legend.Legend at 0x12090b090>"
      ]
     },
     "execution_count": 213,
     "metadata": {},
     "output_type": "execute_result"
    },
    {
     "data": {
      "image/png": "[encoded data removed]",
      "text/plain": [
       "<matplotlib.figure.Figure at 0x117489c90>"
      ]
     },
     "metadata": {},
     "output_type": "display_data"
    }
   ],
   "source": [
    "for name in rocs:\n",
    "    plt.plot(rocs[name][0], rocs[name][1], label=name)\n",
    "plt.legend()"
   ]
  },
  {
   "cell_type": "markdown",
   "metadata": {},
   "source": [
    "## Try to use the predicted probabilities to find unknown classes:"
   ]
  },
  {
   "cell_type": "code",
   "execution_count": 224,
   "metadata": {
    "collapsed": true
   },
   "outputs": [],
   "source": [
    "def predict_classes(prediction_probabilities, threshold):\n",
    "    import scipy\n",
    "    #sort = np.argsort(prediction_probabilities, 1).values[:, ::-1]\n",
    "    prediction = prediction_probabilities.idxmax(1)\n",
    "    #score = prediction_probabilities.std(1)\n",
    "    score = prediction_probabilities.max(1)\n",
    "    prediction[score<threshold] = 'Unknown'\n",
    "    return prediction"
   ]
  },
  {
   "cell_type": "code",
   "execution_count": 225,
   "metadata": {
    "collapsed": false
   },
   "outputs": [],
   "source": [
    "thresholds = np.linspace(0,1,300)\n",
    "accs = pd.DataFrame(columns=['acc', 'prec', 'recall'], index=thresholds)\n",
    "for t in thresholds:\n",
    "    prediction = predict_classes(prediction_probabilities, t)\n",
    "    accs.loc[t] = [accuracy_score(test_labels_collected, prediction), precision_score(test_labels_collected, prediction), recall_score(test_labels_collected, prediction)]"
   ]
  },
  {
   "cell_type": "code",
   "execution_count": 226,
   "metadata": {
    "collapsed": false
   },
   "outputs": [
    {
     "data": {
      "text/plain": [
       "<matplotlib.text.Text at 0x1186a5b90>"
      ]
     },
     "execution_count": 226,
     "metadata": {},
     "output_type": "execute_result"
    },
    {
     "data": {
      "image/png": "[encoded data removed]",
      "text/plain": [
       "<matplotlib.figure.Figure at 0x117fc4cd0>"
      ]
     },
     "metadata": {},
     "output_type": "display_data"
    }
   ],
   "source": [
    "ax = accs.plot()\n",
    "ax.set_title('Performance along probability threshold')"
   ]
  },
  {
   "cell_type": "code",
   "execution_count": 228,
   "metadata": {
    "collapsed": false
   },
   "outputs": [],
   "source": [
    "from sklearn.metrics import confusion_matrix"
   ]
  },
  {
   "cell_type": "code",
   "execution_count": 254,
   "metadata": {
    "collapsed": false
   },
   "outputs": [],
   "source": [
    "best = prediction_probabilities.idxmax(1)\n",
    "score = prediction_probabilities.max(1)\n",
    "best[score<accs.acc.max()] = 'Unknown'"
   ]
  },
  {
   "cell_type": "code",
   "execution_count": 255,
   "metadata": {
    "collapsed": false
   },
   "outputs": [
    {
     "data": {
      "text/plain": [
       "RNAseq22     Control\n",
       "RNAseq23    Effect_2\n",
       "RNAseq24     Unknown\n",
       "RNAseq25     Unknown\n",
       "RNAseq26     Unknown\n",
       "RNAseq27     Control\n",
       "RNAseq28     Unknown\n",
       "RNAseq29     Unknown\n",
       "RNAseq30     Unknown\n",
       "RNAseq31     Unknown\n",
       "RNAseq32     Unknown\n",
       "RNAseq34     Unknown\n",
       "RNAseq35     Unknown\n",
       "RNAseq36     Unknown\n",
       "RNAseq38     Control\n",
       "RNAseq39     Unknown\n",
       "RNAseq40     Unknown\n",
       "RNAseq41     Unknown\n",
       "RNAseq42     Unknown\n",
       "RNAseq43     Control\n",
       "RNAseq44     Unknown\n",
       "RNAseq45     Unknown\n",
       "RNAseq46     Unknown\n",
       "RNAseq47     Unknown\n",
       "RNAseq48     Unknown\n",
       "RNAseq50     Unknown\n",
       "RNAseq51     Unknown\n",
       "RNAseq52     Unknown\n",
       "RNAseq54     Control\n",
       "RNAseq55     Unknown\n",
       "RNAseq56     Unknown\n",
       "RNAseq57     Unknown\n",
       "RNAseq58     Unknown\n",
       "RNAseq59     Control\n",
       "RNAseq60     Unknown\n",
       "RNAseq61     Unknown\n",
       "RNAseq62     Unknown\n",
       "RNAseq63     Unknown\n",
       "RNAseq64     Unknown\n",
       "RNAseq66     Unknown\n",
       "RNAseq67     Unknown\n",
       "RNAseq68     Unknown\n",
       "dtype: object"
      ]
     },
     "execution_count": 255,
     "metadata": {},
     "output_type": "execute_result"
    }
   ],
   "source": [
    "best"
   ]
  },
  {
   "cell_type": "code",
   "execution_count": 234,
   "metadata": {
    "collapsed": false
   },
   "outputs": [
    {
     "data": {
      "text/plain": [
       "(array(['Control', 'Effect_2', 'Unknown'], dtype=object),\n",
       " array(['Control', 'Effect_2', 'Unknown', 'Effect_1'], dtype=object))"
      ]
     },
     "execution_count": 234,
     "metadata": {},
     "output_type": "execute_result"
    }
   ],
   "source": [
    "best.unique(),test_labels_collected.unique()"
   ]
  },
  {
   "cell_type": "code",
   "execution_count": 235,
   "metadata": {
    "collapsed": false
   },
   "outputs": [
    {
     "name": "stdout",
     "output_type": "stream",
     "text": [
      "             precision    recall  f1-score   support\n",
      "\n",
      "    Control       1.00      1.00      1.00         6\n",
      "   Effect_1       0.00      0.00      0.00         9\n",
      "   Effect_2       1.00      0.22      0.36         9\n",
      "    Unknown       0.53      1.00      0.69        18\n",
      "\n",
      "avg / total       0.58      0.62      0.52        42\n",
      "\n"
     ]
    }
   ],
   "source": [
    "print classification_report(test_labels_collected, best,)"
   ]
  },
  {
   "cell_type": "code",
   "execution_count": 238,
   "metadata": {
    "collapsed": false
   },
   "outputs": [
    {
     "name": "stdout",
     "output_type": "stream",
     "text": [
      "Best accuracy by choosing threshold = 62%\n"
     ]
    }
   ],
   "source": [
    "print \"Best accuracy by choosing threshold = {:.0%}\".format(accuracy_score(test_labels_collected, best))"
   ]
  },
  {
   "cell_type": "code",
   "execution_count": 245,
   "metadata": {
    "collapsed": true
   },
   "outputs": [],
   "source": [
    "_labs = test_labels_collected.unique()"
   ]
  },
  {
   "cell_type": "code",
   "execution_count": 246,
   "metadata": {
    "collapsed": false
   },
   "outputs": [
    {
     "data": {
      "text/html": [
       "<div>\n",
       "<table border=\"1\" class=\"dataframe\">\n",
       "  <thead>\n",
       "    <tr style=\"text-align: right;\">\n",
       "      <th></th>\n",
       "      <th>Control</th>\n",
       "      <th>Effect_2</th>\n",
       "      <th>Unknown</th>\n",
       "      <th>Effect_1</th>\n",
       "    </tr>\n",
       "  </thead>\n",
       "  <tbody>\n",
       "    <tr>\n",
       "      <th>Control</th>\n",
       "      <td>6</td>\n",
       "      <td>0</td>\n",
       "      <td>0</td>\n",
       "      <td>0</td>\n",
       "    </tr>\n",
       "    <tr>\n",
       "      <th>Effect_2</th>\n",
       "      <td>0</td>\n",
       "      <td>2</td>\n",
       "      <td>7</td>\n",
       "      <td>0</td>\n",
       "    </tr>\n",
       "    <tr>\n",
       "      <th>Unknown</th>\n",
       "      <td>0</td>\n",
       "      <td>0</td>\n",
       "      <td>18</td>\n",
       "      <td>0</td>\n",
       "    </tr>\n",
       "    <tr>\n",
       "      <th>Effect_1</th>\n",
       "      <td>0</td>\n",
       "      <td>0</td>\n",
       "      <td>9</td>\n",
       "      <td>0</td>\n",
       "    </tr>\n",
       "  </tbody>\n",
       "</table>\n",
       "</div>"
      ],
      "text/plain": [
       "          Control  Effect_2  Unknown  Effect_1\n",
       "Control         6         0        0         0\n",
       "Effect_2        0         2        7         0\n",
       "Unknown         0         0       18         0\n",
       "Effect_1        0         0        9         0"
      ]
     },
     "execution_count": 246,
     "metadata": {},
     "output_type": "execute_result"
    }
   ],
   "source": [
    "pd.DataFrame(confusion_matrix(test_labels_collected, best, labels=_labs), index=_labs, columns=_labs)"
   ]
  },
  {
   "cell_type": "code",
   "execution_count": 247,
   "metadata": {
    "collapsed": false
   },
   "outputs": [
    {
     "data": {
      "text/plain": [
       "SampleID_RNASeq\n",
       "RNAseq22     Control\n",
       "RNAseq23    Effect_2\n",
       "RNAseq24    Effect_2\n",
       "RNAseq25    Effect_2\n",
       "RNAseq26     Unknown\n",
       "RNAseq27     Control\n",
       "RNAseq28     Unknown\n",
       "RNAseq29     Unknown\n",
       "RNAseq30     Unknown\n",
       "RNAseq31     Unknown\n",
       "RNAseq32     Unknown\n",
       "RNAseq34    Effect_1\n",
       "RNAseq35    Effect_1\n",
       "RNAseq36    Effect_1\n",
       "RNAseq38     Control\n",
       "RNAseq39    Effect_2\n",
       "RNAseq40    Effect_2\n",
       "RNAseq41    Effect_2\n",
       "RNAseq42     Unknown\n",
       "RNAseq43     Control\n",
       "RNAseq44     Unknown\n",
       "RNAseq45     Unknown\n",
       "RNAseq46     Unknown\n",
       "RNAseq47     Unknown\n",
       "RNAseq48     Unknown\n",
       "RNAseq50    Effect_1\n",
       "RNAseq51    Effect_1\n",
       "RNAseq52    Effect_1\n",
       "RNAseq54     Control\n",
       "RNAseq55    Effect_2\n",
       "RNAseq56    Effect_2\n",
       "RNAseq57    Effect_2\n",
       "RNAseq58     Unknown\n",
       "RNAseq59     Control\n",
       "RNAseq60     Unknown\n",
       "RNAseq61     Unknown\n",
       "RNAseq62     Unknown\n",
       "RNAseq63     Unknown\n",
       "RNAseq64     Unknown\n",
       "RNAseq66    Effect_1\n",
       "RNAseq67    Effect_1\n",
       "RNAseq68    Effect_1\n",
       "Name: Effect, dtype: object"
      ]
     },
     "execution_count": 247,
     "metadata": {},
     "output_type": "execute_result"
    }
   ],
   "source": [
    "test_labels_collected"
   ]
  },
  {
   "cell_type": "code",
   "execution_count": null,
   "metadata": {
    "collapsed": true
   },
   "outputs": [],
   "source": []
  }
 ],
 "metadata": {
  "kernelspec": {
   "display_name": "Python 2",
   "language": "python",
   "name": "python2"
  },
  "language_info": {
   "codemirror_mode": {
    "name": "ipython",
    "version": 2
   },
   "file_extension": ".py",
   "mimetype": "text/x-python",
   "name": "python",
   "nbconvert_exporter": "python",
   "pygments_lexer": "ipython2",
   "version": "2.7.11"
  }
 },
 "nbformat": 4,
 "nbformat_minor": 0
}
