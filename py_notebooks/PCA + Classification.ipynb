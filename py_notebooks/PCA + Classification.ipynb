{
 "cells": [
  {
   "cell_type": "code",
   "execution_count": 1,
   "metadata": {
    "collapsed": true
   },
   "outputs": [],
   "source": [
    "%matplotlib inline\n",
    "from sklearn.linear_model import LogisticRegression\n",
    "from sklearn.decomposition import PCA\n",
    "from sklearn.metrics import classification_report\n",
    "import GPyOpt, numpy as np\n",
    "from matplotlib import pyplot as plt\n",
    "import seaborn as sns\n",
    "from GPy import kern\n",
    "from paramz import Model, Param"
   ]
  },
  {
   "cell_type": "code",
   "execution_count": 2,
   "metadata": {
    "collapsed": false
   },
   "outputs": [],
   "source": [
    "class ParamzLogReg(Model):\n",
    "    def __init__(self, X, y, C=1.,n_components=3, rep= 1,name='ParamzLogReg'):\n",
    "        from sklearn.cross_validation import StratifiedKFold\n",
    "        super(ParamzLogReg, self).__init__(name=name)\n",
    "\n",
    "        self.X = X\n",
    "        self.Y = y\n",
    "        \n",
    "        self.C = Param('C', C)\n",
    "        self.n_components = Param('n_components', n_components)\n",
    "        self.link_parameters(self.C,self.n_components)\n",
    "        self.sk = [(tr_idx,test_idx) for tr_idx,test_idx in StratifiedKFold(train_labels, shuffle=True) for _ in range(rep)]\n",
    "        \n",
    "    def parameters_changed(self):\n",
    "        from sklearn.metrics import accuracy_score\n",
    "    \n",
    "        self._acc = 0.\n",
    "    \n",
    "        for train_index, test_index in self.sk:\n",
    "            pca = PCA(n_components=int(self.n_components.values))\n",
    "            rfc = LogisticRegression(penalty='l2', C=float(self.C.values), n_jobs=-1,class_weight='balanced')\n",
    "            x_tr = pca.fit_transform(self.X[train_index])\n",
    "            x_te = pca.transform(self.X[test_index])\n",
    "            rfc = rfc.fit(x_tr, self.Y[train_index])\n",
    "            prediction = rfc.predict(x_te)\n",
    "            self._acc += accuracy_score(self.Y[test_index], prediction)/float(len(self.sk))\n",
    "            \n",
    "    def objective_function(self):\n",
    "        import numpy as np\n",
    "        print self._acc\n",
    "        return -np.atleast_1d(self._acc)\n",
    "    def predict(self, X):\n",
    "        pca = PCA(n_components=int(self.n_components.values))\n",
    "        rfc = LogisticRegression(penalty='l1', C=float(self.C.values), n_jobs=-1,class_weight='balanced')\n",
    "        x_tr = pca.fit_transform(self.X)\n",
    "        x_te = pca.transform(X)\n",
    "        rfc = rfc.fit(x_tr, self.Y)\n",
    "        prediction = rfc.predict(x_te)\n",
    "        return prediction\n",
    "    def train(self):\n",
    "        self.pca = PCA(n_components=int(self.n_components.values))\n",
    "        self.rfc = LogisticRegression(penalty='l1', C=float(self.C.values), n_jobs=-1,class_weight='balanced')\n",
    "        x_tr = self.pca.fit_transform(self.X)\n",
    "        self.rfc.fit(x_tr, self.Y)\n",
    "\n",
    "    def predict_proba(self, X):\n",
    "        x_te = self.pca.transform(X)\n",
    "        prediction = self.rfc.predict_proba(x_te)\n",
    "        return prediction"
   ]
  },
  {
   "cell_type": "code",
   "execution_count": 3,
   "metadata": {
    "collapsed": false
   },
   "outputs": [],
   "source": [
    "def proces_data(data,design):\n",
    "    train_idx = design.Set == design.Set.unique()[0]\n",
    "    test_idx = ~train_idx\n",
    "    train_set = data.loc[:, train_idx]\n",
    "    from sklearn.preprocessing import StandardScaler\n",
    "    normalizer = StandardScaler()\n",
    "    train_set[:] = normalizer.fit_transform(train_set.T).T\n",
    "\n",
    "    test_set = data.loc[:, test_idx]\n",
    "    test_set[:] = normalizer.transform(test_set.T).T\n",
    "    train_labels = design.loc[train_idx, 'Effect']\n",
    "    test_labels = design.loc[test_idx, 'Effect']\n",
    "    return train_idx, test_idx,train_set, test_set, train_labels, test_labels"
   ]
  },
  {
   "cell_type": "markdown",
   "metadata": {},
   "source": [
    "# RNASEQ Data"
   ]
  },
  {
   "cell_type": "code",
   "execution_count": 4,
   "metadata": {
    "collapsed": false,
    "scrolled": true
   },
   "outputs": [
    {
     "name": "stdout",
     "output_type": "stream",
     "text": [
      "loading rnaseq data\n",
      "rnaseq_all_genes: (11216, 104)\n",
      "rnaseq_effector_genes: (1044, 104)\n",
      "rnaseq_mod_activities: (89, 104)\n",
      "rnaseq_mod_genevals: (172, 104)\n",
      "rnaseq_mod_nodevals: (462, 104)\n",
      "rnaseq_signaling_genes: (2184, 104)\n",
      "rnaseq_design: (104, 4)\n"
     ]
    }
   ],
   "source": [
    "%run load_data.py rnaseq"
   ]
  },
  {
   "cell_type": "code",
   "execution_count": 5,
   "metadata": {
    "collapsed": true
   },
   "outputs": [],
   "source": [
    "data = rnaseq_all_genes\n",
    "design = rnaseq_design\n",
    "train_idx, test_idx,train_set, test_set, train_labels, test_labels = proces_data(data,design)"
   ]
  },
  {
   "cell_type": "code",
   "execution_count": 6,
   "metadata": {
    "collapsed": false
   },
   "outputs": [
    {
     "data": {
      "text/plain": [
       "SampleID_RNASeq\n",
       "RNAseq1    Control\n",
       "RNAseq2    Control\n",
       "RNAseq3    Control\n",
       "RNAseq4    Control\n",
       "RNAseq5    Control\n",
       "Name: Effect, dtype: object"
      ]
     },
     "execution_count": 6,
     "metadata": {},
     "output_type": "execute_result"
    }
   ],
   "source": [
    "train_labels.head()"
   ]
  },
  {
   "cell_type": "code",
   "execution_count": 7,
   "metadata": {
    "collapsed": false
   },
   "outputs": [
    {
     "data": {
      "text/plain": [
       "SampleID_RNASeq\n",
       "RNAseq22     Control\n",
       "RNAseq23    Effect_2\n",
       "RNAseq24    Effect_2\n",
       "RNAseq25    Effect_2\n",
       "RNAseq26    Effect_6\n",
       "Name: Effect, dtype: object"
      ]
     },
     "execution_count": 7,
     "metadata": {},
     "output_type": "execute_result"
    }
   ],
   "source": [
    "test_labels.head()"
   ]
  },
  {
   "cell_type": "code",
   "execution_count": 8,
   "metadata": {
    "collapsed": false
   },
   "outputs": [],
   "source": [
    "m = ParamzLogReg(train_set.T.values, train_labels.values, rep=1)"
   ]
  },
  {
   "cell_type": "code",
   "execution_count": 9,
   "metadata": {
    "collapsed": false
   },
   "outputs": [
    {
     "name": "stdout",
     "output_type": "stream",
     "text": [
      "0.870634920635\n",
      "0.823015873016\n",
      "0.677777777778\n",
      "0.548412698413\n",
      "0.548412698413\n",
      "0.660317460317\n",
      "0.854761904762\n",
      "0.515873015873\n",
      "0.418253968254\n",
      "0.74126984127\n",
      "*Optimization completed.\n"
     ]
    }
   ],
   "source": [
    "def f(X):\n",
    "    ret = np.empty((X.shape[0],1))\n",
    "    for i in range(X.shape[0]):\n",
    "        ret[i] = m._objective(X[i])\n",
    "    return ret\n",
    "mixed_domain =[{'name': 'C', 'type': 'continuous', 'domain':(0.1,10)},\n",
    "              {'name': 'n_components', 'type': 'discrete', 'domain':range(1,20)}]\n",
    "\n",
    "m_opt = GPyOpt.methods.BayesianOptimization(f, \n",
    "                                            domain=mixed_domain,        # box-constrains of the problem\n",
    "                                            initial_design_numdata = 10, # number data initial design\n",
    "                                            kernel= kern.Matern32(input_dim=2, variance=1., lengthscale=(5,50), ARD=True) + kern.Bias(2),\n",
    "                                            acquisition='EI',\n",
    "                                            acquisition_par = 2,\n",
    "                                            type_initial_design='latin')"
   ]
  },
  {
   "cell_type": "code",
   "execution_count": 10,
   "metadata": {
    "collapsed": false,
    "scrolled": false
   },
   "outputs": [
    {
     "name": "stdout",
     "output_type": "stream",
     "text": [
      "0.854761904762\n",
      "0.838095238095\n",
      "0.838095238095\n",
      "0.870634920635\n",
      "0.757936507937\n",
      "0.854761904762\n",
      "0.870634920635\n",
      "0.870634920635\n",
      "*Optimization completed.\n",
      "   -Method converged.\n"
     ]
    }
   ],
   "source": [
    "m_opt.run_optimization(60,                                   # evaluation budget\n",
    "                                    eps=1e-5)"
   ]
  },
  {
   "cell_type": "code",
   "execution_count": 11,
   "metadata": {
    "collapsed": false
   },
   "outputs": [
    {
     "data": {
      "image/png": "[encoded data removed]",
      "text/plain": [
       "<matplotlib.figure.Figure at 0x7f155df9d6d0>"
      ]
     },
     "metadata": {},
     "output_type": "display_data"
    },
    {
     "data": {
      "image/png": "[encoded data removed]",
      "text/plain": [
       "<matplotlib.figure.Figure at 0x7f15597a6e90>"
      ]
     },
     "metadata": {},
     "output_type": "display_data"
    }
   ],
   "source": [
    "m_opt.plot_convergence()\n",
    "m_opt.plot_acquisition()"
   ]
  },
  {
   "cell_type": "code",
   "execution_count": 12,
   "metadata": {
    "collapsed": false
   },
   "outputs": [
    {
     "data": {
      "text/plain": [
       "array([  7.84221097,  14.        ])"
      ]
     },
     "execution_count": 12,
     "metadata": {},
     "output_type": "execute_result"
    }
   ],
   "source": [
    "m_opt.x_opt"
   ]
  },
  {
   "cell_type": "code",
   "execution_count": 13,
   "metadata": {
    "collapsed": false,
    "scrolled": false
   },
   "outputs": [
    {
     "data": {
      "text/html": [
       "<style type=\"text/css\">\n",
       ".tg  {font-family:\"Courier New\", Courier, monospace !important;padding:2px 3px;word-break:normal;border-collapse:collapse;border-spacing:0;border-color:#DCDCDC;margin:0px auto;width:100%;}\n",
       ".tg td{font-family:\"Courier New\", Courier, monospace !important;font-weight:bold;color:#444;background-color:#F7FDFA;border-style:solid;border-width:1px;overflow:hidden;word-break:normal;border-color:#DCDCDC;}\n",
       ".tg th{font-family:\"Courier New\", Courier, monospace !important;font-weight:normal;color:#fff;background-color:#26ADE4;border-style:solid;border-width:1px;overflow:hidden;word-break:normal;border-color:#DCDCDC;}\n",
       ".tg .tg-left{font-family:\"Courier New\", Courier, monospace !important;font-weight:normal;text-align:left;}\n",
       ".tg .tg-center{font-family:\"Courier New\", Courier, monospace !important;font-weight:normal;text-align:center;}\n",
       ".tg .tg-right{font-family:\"Courier New\", Courier, monospace !important;font-weight:normal;text-align:right;}\n",
       "</style>\n",
       "<table class=\"tg\"><tr><th><b>  sum.             </b></th><th><b>            value</b></th><th><b>constraints</b></th><th><b>priors</b></th></tr>\n",
       "<tr><td class=tg-left>  Mat32.variance   </td><td class=tg-right>    1.06103269984</td><td class=tg-center>    +ve    </td><td class=tg-center>      </td></tr>\n",
       "<tr><td class=tg-left>  Mat32.lengthscale</td><td class=tg-right>             (2,)</td><td class=tg-center>    +ve    </td><td class=tg-center>      </td></tr>\n",
       "<tr><td class=tg-left>  bias.variance    </td><td class=tg-right>2.33226762955e-15</td><td class=tg-center>    +ve    </td><td class=tg-center>      </td></tr>\n",
       "</table>"
      ],
      "text/plain": [
       "<GPy.kern.src.add.Add at 0x7f155df9ddd0>"
      ]
     },
     "execution_count": 13,
     "metadata": {},
     "output_type": "execute_result"
    }
   ],
   "source": [
    "m_opt.kernel"
   ]
  },
  {
   "cell_type": "code",
   "execution_count": 14,
   "metadata": {
    "collapsed": false
   },
   "outputs": [],
   "source": [
    "m.train()\n",
    "prob_prediction = pd.DataFrame(m.predict_proba(test_set.T.values), columns=m.rfc.classes_, index=test_set.columns)\n",
    "prob_prediction['Unknown']=0.\n",
    "trans = prob_prediction>(1 - 1./6.)\n",
    "trans.Unknown = np.sum(trans, axis=1) == 0 \n",
    "prediction = trans.idxmax(axis=1)"
   ]
  },
  {
   "cell_type": "code",
   "execution_count": 15,
   "metadata": {
    "collapsed": false
   },
   "outputs": [
    {
     "data": {
      "text/html": [
       "<div>\n",
       "<table border=\"1\" class=\"dataframe\">\n",
       "  <thead>\n",
       "    <tr style=\"text-align: right;\">\n",
       "      <th></th>\n",
       "      <th>Control</th>\n",
       "      <th>Effect_1</th>\n",
       "      <th>Effect_2</th>\n",
       "      <th>Effect_3</th>\n",
       "      <th>Effect_4</th>\n",
       "      <th>Effect_5</th>\n",
       "      <th>Unknown</th>\n",
       "    </tr>\n",
       "  </thead>\n",
       "  <tbody>\n",
       "    <tr>\n",
       "      <th>RNAseq22</th>\n",
       "      <td>True</td>\n",
       "      <td>False</td>\n",
       "      <td>False</td>\n",
       "      <td>False</td>\n",
       "      <td>False</td>\n",
       "      <td>False</td>\n",
       "      <td>False</td>\n",
       "    </tr>\n",
       "    <tr>\n",
       "      <th>RNAseq23</th>\n",
       "      <td>False</td>\n",
       "      <td>False</td>\n",
       "      <td>True</td>\n",
       "      <td>False</td>\n",
       "      <td>False</td>\n",
       "      <td>False</td>\n",
       "      <td>False</td>\n",
       "    </tr>\n",
       "    <tr>\n",
       "      <th>RNAseq24</th>\n",
       "      <td>False</td>\n",
       "      <td>False</td>\n",
       "      <td>False</td>\n",
       "      <td>False</td>\n",
       "      <td>False</td>\n",
       "      <td>False</td>\n",
       "      <td>True</td>\n",
       "    </tr>\n",
       "    <tr>\n",
       "      <th>RNAseq25</th>\n",
       "      <td>False</td>\n",
       "      <td>False</td>\n",
       "      <td>False</td>\n",
       "      <td>False</td>\n",
       "      <td>True</td>\n",
       "      <td>False</td>\n",
       "      <td>False</td>\n",
       "    </tr>\n",
       "    <tr>\n",
       "      <th>RNAseq26</th>\n",
       "      <td>False</td>\n",
       "      <td>False</td>\n",
       "      <td>False</td>\n",
       "      <td>False</td>\n",
       "      <td>False</td>\n",
       "      <td>False</td>\n",
       "      <td>True</td>\n",
       "    </tr>\n",
       "  </tbody>\n",
       "</table>\n",
       "</div>"
      ],
      "text/plain": [
       "         Control Effect_1 Effect_2 Effect_3 Effect_4 Effect_5 Unknown\n",
       "RNAseq22    True    False    False    False    False    False   False\n",
       "RNAseq23   False    False     True    False    False    False   False\n",
       "RNAseq24   False    False    False    False    False    False    True\n",
       "RNAseq25   False    False    False    False     True    False   False\n",
       "RNAseq26   False    False    False    False    False    False    True"
      ]
     },
     "execution_count": 15,
     "metadata": {},
     "output_type": "execute_result"
    }
   ],
   "source": [
    "trans.head()"
   ]
  },
  {
   "cell_type": "code",
   "execution_count": 16,
   "metadata": {
    "collapsed": false
   },
   "outputs": [
    {
     "data": {
      "text/plain": [
       "RNAseq22     Control\n",
       "RNAseq23    Effect_2\n",
       "RNAseq24     Unknown\n",
       "RNAseq25    Effect_4\n",
       "RNAseq26     Unknown\n",
       "dtype: object"
      ]
     },
     "execution_count": 16,
     "metadata": {},
     "output_type": "execute_result"
    }
   ],
   "source": [
    "prediction.head()"
   ]
  },
  {
   "cell_type": "code",
   "execution_count": 17,
   "metadata": {
    "collapsed": false
   },
   "outputs": [
    {
     "name": "stdout",
     "output_type": "stream",
     "text": [
      "0.0\n"
     ]
    },
    {
     "data": {
      "text/html": [
       "<div>\n",
       "<table border=\"1\" class=\"dataframe\">\n",
       "  <thead>\n",
       "    <tr style=\"text-align: right;\">\n",
       "      <th></th>\n",
       "      <th>Control</th>\n",
       "      <th>Effect_1</th>\n",
       "      <th>Effect_2</th>\n",
       "      <th>Effect_3</th>\n",
       "      <th>Effect_4</th>\n",
       "      <th>Effect_5</th>\n",
       "      <th>Unknown</th>\n",
       "    </tr>\n",
       "  </thead>\n",
       "  <tbody>\n",
       "    <tr>\n",
       "      <th>RNAseq22</th>\n",
       "      <td>1.0</td>\n",
       "      <td>0.0</td>\n",
       "      <td>0.0</td>\n",
       "      <td>0.0</td>\n",
       "      <td>0.0</td>\n",
       "      <td>0.0</td>\n",
       "      <td>0.0</td>\n",
       "    </tr>\n",
       "    <tr>\n",
       "      <th>RNAseq23</th>\n",
       "      <td>0.0</td>\n",
       "      <td>0.0</td>\n",
       "      <td>1.0</td>\n",
       "      <td>0.0</td>\n",
       "      <td>0.0</td>\n",
       "      <td>0.0</td>\n",
       "      <td>0.0</td>\n",
       "    </tr>\n",
       "    <tr>\n",
       "      <th>RNAseq24</th>\n",
       "      <td>0.0</td>\n",
       "      <td>0.0</td>\n",
       "      <td>1.0</td>\n",
       "      <td>0.0</td>\n",
       "      <td>0.0</td>\n",
       "      <td>0.0</td>\n",
       "      <td>0.0</td>\n",
       "    </tr>\n",
       "    <tr>\n",
       "      <th>RNAseq25</th>\n",
       "      <td>0.0</td>\n",
       "      <td>0.0</td>\n",
       "      <td>1.0</td>\n",
       "      <td>0.0</td>\n",
       "      <td>0.0</td>\n",
       "      <td>0.0</td>\n",
       "      <td>0.0</td>\n",
       "    </tr>\n",
       "    <tr>\n",
       "      <th>RNAseq26</th>\n",
       "      <td>0.0</td>\n",
       "      <td>0.0</td>\n",
       "      <td>0.0</td>\n",
       "      <td>0.0</td>\n",
       "      <td>0.0</td>\n",
       "      <td>0.0</td>\n",
       "      <td>1.0</td>\n",
       "    </tr>\n",
       "  </tbody>\n",
       "</table>\n",
       "</div>"
      ],
      "text/plain": [
       "          Control  Effect_1  Effect_2  Effect_3  Effect_4  Effect_5  Unknown\n",
       "RNAseq22      1.0       0.0       0.0       0.0       0.0       0.0      0.0\n",
       "RNAseq23      0.0       0.0       1.0       0.0       0.0       0.0      0.0\n",
       "RNAseq24      0.0       0.0       1.0       0.0       0.0       0.0      0.0\n",
       "RNAseq25      0.0       0.0       1.0       0.0       0.0       0.0      0.0\n",
       "RNAseq26      0.0       0.0       0.0       0.0       0.0       0.0      1.0"
      ]
     },
     "execution_count": 17,
     "metadata": {},
     "output_type": "execute_result"
    }
   ],
   "source": [
    "col = ['Control'] + ['Effect_{}'.format(i) for i in range(1,8)]\n",
    "true_labels = pd.DataFrame(np.zeros((test_labels.shape[0],8)), columns=col, index=test_set.columns)\n",
    "for ind in test_labels.index:\n",
    "    true_labels[test_labels[ind]][ind]=1\n",
    "true_labels['Unknown'] = true_labels['Effect_6'] + true_labels['Effect_7']\n",
    "del true_labels['Effect_6']\n",
    "del true_labels['Effect_7']\n",
    "col = ['Control'] + ['Effect_{}'.format(i) for i in range(1,6)] +['Unknown']\n",
    "print np.sum(true_labels['Effect_3'])\n",
    "true_labels.head()\n"
   ]
  },
  {
   "cell_type": "code",
   "execution_count": 18,
   "metadata": {
    "collapsed": true
   },
   "outputs": [],
   "source": [
    "from sklearn.metrics import precision_recall_curve, average_precision_score"
   ]
  },
  {
   "cell_type": "code",
   "execution_count": 19,
   "metadata": {
    "collapsed": false
   },
   "outputs": [],
   "source": [
    "precision = dict()\n",
    "recall = dict()\n",
    "average_precision = dict()\n",
    "\n",
    "for i in range(7):\n",
    "    precision[col[i]], recall[col[i]], _ = precision_recall_curve(true_labels.values[:, i],\n",
    "                                                        prob_prediction.values[:, i])\n",
    "    average_precision[col[i]] = average_precision_score(true_labels.values[:, i], prob_prediction.values[:, i])\n"
   ]
  },
  {
   "cell_type": "code",
   "execution_count": 20,
   "metadata": {
    "collapsed": false
   },
   "outputs": [
    {
     "data": {
      "image/png": "[encoded data removed]",
      "text/plain": [
       "<matplotlib.figure.Figure at 0x7f155e70fa10>"
      ]
     },
     "metadata": {},
     "output_type": "display_data"
    }
   ],
   "source": [
    "k = col[0]\n",
    "plt.clf()\n",
    "for k in col:\n",
    "    plt.plot(recall[k], precision[k], label='{0}'.format( k))\n",
    "plt.xlabel('Recall')\n",
    "plt.ylabel('Precision')\n",
    "plt.ylim([0.0, 1.05])\n",
    "plt.xlim([0.0, 1.0])\n",
    "plt.title('Precision-Recall')\n",
    "plt.legend(loc=\"lower left\")\n",
    "plt.show()\n"
   ]
  },
  {
   "cell_type": "code",
   "execution_count": 21,
   "metadata": {
    "collapsed": false
   },
   "outputs": [
    {
     "name": "stdout",
     "output_type": "stream",
     "text": [
      "             precision    recall  f1-score   support\n",
      "\n",
      "    Control       1.00      0.67      0.80         6\n",
      "   Effect_1       0.83      0.56      0.67         9\n",
      "   Effect_2       1.00      0.22      0.36         9\n",
      "   Effect_3       0.00      0.00      0.00         0\n",
      "   Effect_4       0.00      0.00      0.00         0\n",
      "    Unknown       0.61      0.78      0.68        18\n",
      "\n",
      "avg / total       0.80      0.60      0.63        42\n",
      "\n",
      "0.595238095238\n"
     ]
    }
   ],
   "source": [
    "from sklearn.metrics import classification_report, accuracy_score\n",
    "print classification_report(true_labels.idxmax(axis=1), prediction.values)\n",
    "print accuracy_score(true_labels.idxmax(axis=1), prediction.values)"
   ]
  },
  {
   "cell_type": "code",
   "execution_count": 22,
   "metadata": {
    "collapsed": false,
    "scrolled": false
   },
   "outputs": [
    {
     "data": {
      "text/html": [
       "<div>\n",
       "<table border=\"1\" class=\"dataframe\">\n",
       "  <thead>\n",
       "    <tr style=\"text-align: right;\">\n",
       "      <th></th>\n",
       "      <th>Control</th>\n",
       "      <th>Effect_1</th>\n",
       "      <th>Effect_2</th>\n",
       "      <th>Effect_3</th>\n",
       "      <th>Effect_4</th>\n",
       "      <th>Effect_5</th>\n",
       "      <th>Unknown</th>\n",
       "    </tr>\n",
       "  </thead>\n",
       "  <tbody>\n",
       "    <tr>\n",
       "      <th>Control</th>\n",
       "      <td>4</td>\n",
       "      <td>0</td>\n",
       "      <td>0</td>\n",
       "      <td>0</td>\n",
       "      <td>0</td>\n",
       "      <td>0</td>\n",
       "      <td>2</td>\n",
       "    </tr>\n",
       "    <tr>\n",
       "      <th>Effect_1</th>\n",
       "      <td>0</td>\n",
       "      <td>5</td>\n",
       "      <td>0</td>\n",
       "      <td>0</td>\n",
       "      <td>0</td>\n",
       "      <td>0</td>\n",
       "      <td>4</td>\n",
       "    </tr>\n",
       "    <tr>\n",
       "      <th>Effect_2</th>\n",
       "      <td>0</td>\n",
       "      <td>0</td>\n",
       "      <td>2</td>\n",
       "      <td>0</td>\n",
       "      <td>4</td>\n",
       "      <td>0</td>\n",
       "      <td>3</td>\n",
       "    </tr>\n",
       "    <tr>\n",
       "      <th>Effect_3</th>\n",
       "      <td>0</td>\n",
       "      <td>0</td>\n",
       "      <td>0</td>\n",
       "      <td>0</td>\n",
       "      <td>0</td>\n",
       "      <td>0</td>\n",
       "      <td>0</td>\n",
       "    </tr>\n",
       "    <tr>\n",
       "      <th>Effect_4</th>\n",
       "      <td>0</td>\n",
       "      <td>0</td>\n",
       "      <td>0</td>\n",
       "      <td>0</td>\n",
       "      <td>0</td>\n",
       "      <td>0</td>\n",
       "      <td>0</td>\n",
       "    </tr>\n",
       "    <tr>\n",
       "      <th>Effect_5</th>\n",
       "      <td>0</td>\n",
       "      <td>0</td>\n",
       "      <td>0</td>\n",
       "      <td>0</td>\n",
       "      <td>0</td>\n",
       "      <td>0</td>\n",
       "      <td>0</td>\n",
       "    </tr>\n",
       "    <tr>\n",
       "      <th>Unknown</th>\n",
       "      <td>0</td>\n",
       "      <td>1</td>\n",
       "      <td>0</td>\n",
       "      <td>2</td>\n",
       "      <td>1</td>\n",
       "      <td>0</td>\n",
       "      <td>14</td>\n",
       "    </tr>\n",
       "  </tbody>\n",
       "</table>\n",
       "</div>"
      ],
      "text/plain": [
       "          Control  Effect_1  Effect_2  Effect_3  Effect_4  Effect_5  Unknown\n",
       "Control         4         0         0         0         0         0        2\n",
       "Effect_1        0         5         0         0         0         0        4\n",
       "Effect_2        0         0         2         0         4         0        3\n",
       "Effect_3        0         0         0         0         0         0        0\n",
       "Effect_4        0         0         0         0         0         0        0\n",
       "Effect_5        0         0         0         0         0         0        0\n",
       "Unknown         0         1         0         2         1         0       14"
      ]
     },
     "execution_count": 22,
     "metadata": {},
     "output_type": "execute_result"
    }
   ],
   "source": [
    "from sklearn.metrics import confusion_matrix\n",
    "pd.DataFrame(confusion_matrix(true_labels.idxmax(axis=1), prediction, labels= true_labels.columns), columns=true_labels.columns, index=true_labels.columns)"
   ]
  },
  {
   "cell_type": "code",
   "execution_count": null,
   "metadata": {
    "collapsed": true
   },
   "outputs": [],
   "source": []
  },
  {
   "cell_type": "markdown",
   "metadata": {
    "collapsed": true
   },
   "source": [
    "# Micro rna"
   ]
  },
  {
   "cell_type": "code",
   "execution_count": null,
   "metadata": {
    "collapsed": true
   },
   "outputs": [],
   "source": []
  },
  {
   "cell_type": "code",
   "execution_count": 23,
   "metadata": {
    "collapsed": false,
    "scrolled": true
   },
   "outputs": [
    {
     "name": "stdout",
     "output_type": "stream",
     "text": [
      "loading microarray data\n",
      "micro_all_genes: (13613, 105)\n",
      "micro_effector_genes: (1044, 105)\n",
      "micro_mod_activities: (89, 105)\n",
      "micro_mod_genevals: (201, 105)\n",
      "micro_mod_nodevals: (462, 105)\n",
      "micro_signaling_genes: (2184, 105)\n",
      "micro_design: (105, 4)\n"
     ]
    }
   ],
   "source": [
    "%run load_data.py micro"
   ]
  },
  {
   "cell_type": "code",
   "execution_count": 24,
   "metadata": {
    "collapsed": true
   },
   "outputs": [],
   "source": [
    "data = micro_all_genes\n",
    "design = micro_design\n",
    "train_idx, test_idx,train_set, test_set, train_labels, test_labels = proces_data(data,design)"
   ]
  },
  {
   "cell_type": "code",
   "execution_count": 25,
   "metadata": {
    "collapsed": false
   },
   "outputs": [],
   "source": [
    "train_set = data.loc[:, train_idx]\n",
    "from sklearn.preprocessing import StandardScaler\n",
    "normalizer = StandardScaler()\n",
    "train_set[:] = normalizer.fit_transform(train_set.T).T\n",
    "\n",
    "test_set = data.loc[:, test_idx]\n",
    "test_set[:] = normalizer.transform(test_set.T).T"
   ]
  },
  {
   "cell_type": "code",
   "execution_count": 26,
   "metadata": {
    "collapsed": false
   },
   "outputs": [
    {
     "data": {
      "text/html": [
       "<div>\n",
       "<table border=\"1\" class=\"dataframe\">\n",
       "  <thead>\n",
       "    <tr style=\"text-align: right;\">\n",
       "      <th></th>\n",
       "      <th>idx</th>\n",
       "      <th>Effect</th>\n",
       "      <th>Drug/Chemical</th>\n",
       "      <th>Set</th>\n",
       "    </tr>\n",
       "    <tr>\n",
       "      <th>SampleID_Microarray</th>\n",
       "      <th></th>\n",
       "      <th></th>\n",
       "      <th></th>\n",
       "      <th></th>\n",
       "    </tr>\n",
       "  </thead>\n",
       "  <tbody>\n",
       "    <tr>\n",
       "      <th>Array_1</th>\n",
       "      <td>1</td>\n",
       "      <td>Effect_3</td>\n",
       "      <td>Drug/Chemical_1</td>\n",
       "      <td>Training Set</td>\n",
       "    </tr>\n",
       "    <tr>\n",
       "      <th>Array_2</th>\n",
       "      <td>2</td>\n",
       "      <td>Effect_3</td>\n",
       "      <td>Drug/Chemical_1</td>\n",
       "      <td>Training Set</td>\n",
       "    </tr>\n",
       "    <tr>\n",
       "      <th>Array_3</th>\n",
       "      <td>3</td>\n",
       "      <td>Effect_3</td>\n",
       "      <td>Drug/Chemical_2</td>\n",
       "      <td>Training Set</td>\n",
       "    </tr>\n",
       "    <tr>\n",
       "      <th>Array_4</th>\n",
       "      <td>4</td>\n",
       "      <td>Effect_3</td>\n",
       "      <td>Drug/Chemical_2</td>\n",
       "      <td>Training Set</td>\n",
       "    </tr>\n",
       "    <tr>\n",
       "      <th>Array_5</th>\n",
       "      <td>5</td>\n",
       "      <td>Effect_3</td>\n",
       "      <td>Drug/Chemical_2</td>\n",
       "      <td>Training Set</td>\n",
       "    </tr>\n",
       "  </tbody>\n",
       "</table>\n",
       "</div>"
      ],
      "text/plain": [
       "                     idx    Effect    Drug/Chemical           Set\n",
       "SampleID_Microarray                                              \n",
       "Array_1                1  Effect_3  Drug/Chemical_1  Training Set\n",
       "Array_2                2  Effect_3  Drug/Chemical_1  Training Set\n",
       "Array_3                3  Effect_3  Drug/Chemical_2  Training Set\n",
       "Array_4                4  Effect_3  Drug/Chemical_2  Training Set\n",
       "Array_5                5  Effect_3  Drug/Chemical_2  Training Set"
      ]
     },
     "execution_count": 26,
     "metadata": {},
     "output_type": "execute_result"
    }
   ],
   "source": [
    "train_labels = design.loc[train_idx, 'Effect']\n",
    "test_labels = design.loc[test_idx, 'Effect']\n",
    "test_labels.head()\n",
    "design.head()"
   ]
  },
  {
   "cell_type": "code",
   "execution_count": 27,
   "metadata": {
    "collapsed": false
   },
   "outputs": [],
   "source": [
    "m = ParamzLogReg(train_set.T.values, train_labels.values, rep=1)"
   ]
  },
  {
   "cell_type": "code",
   "execution_count": 28,
   "metadata": {
    "collapsed": false,
    "scrolled": true
   },
   "outputs": [
    {
     "name": "stdout",
     "output_type": "stream",
     "text": [
      "0.365079365079\n",
      "0.492063492063\n",
      "0.428571428571\n",
      "0.492063492063\n",
      "0.555555555556\n",
      "0.634920634921\n",
      "0.492063492063\n",
      "0.507936507937\n",
      "0.555555555556\n",
      "0.47619047619\n",
      "*Optimization completed.\n"
     ]
    }
   ],
   "source": [
    "def f(X):\n",
    "    ret = np.empty((X.shape[0],1))\n",
    "    for i in range(X.shape[0]):\n",
    "        ret[i] = m._objective(X[i])\n",
    "    return ret\n",
    "mixed_domain =[{'name': 'C', 'type': 'continuous', 'domain':(0.1,10)},\n",
    "              {'name': 'n_components', 'type': 'discrete', 'domain':range(1,20)}]\n",
    "\n",
    "m_opt = GPyOpt.methods.BayesianOptimization(f, \n",
    "                                            domain=mixed_domain,        # box-constrains of the problem\n",
    "                                            initial_design_numdata = 10, # number data initial design\n",
    "                                            kernel= kern.Matern32(input_dim=2, variance=1., lengthscale=(5,50), ARD=True) + kern.Bias(2),\n",
    "                                            acquisition='EI',\n",
    "                                            acquisition_par = 2,\n",
    "                                            type_initial_design='latin')"
   ]
  },
  {
   "cell_type": "code",
   "execution_count": 29,
   "metadata": {
    "collapsed": false,
    "scrolled": true
   },
   "outputs": [
    {
     "name": "stdout",
     "output_type": "stream",
     "text": [
      "0.619047619048\n",
      "0.269841269841\n",
      "0.507936507937\n",
      "0.650793650794\n",
      "0.301587301587\n",
      "0.47619047619\n",
      "0.634920634921\n",
      "0.460317460317\n",
      "0.634920634921\n",
      "0.634920634921\n",
      "0.634920634921\n",
      "*Optimization completed.\n",
      "   -Method converged.\n"
     ]
    }
   ],
   "source": [
    "m_opt.run_optimization(60,                                   # evaluation budget\n",
    "                                    eps=1e-5)"
   ]
  },
  {
   "cell_type": "code",
   "execution_count": 30,
   "metadata": {
    "collapsed": false
   },
   "outputs": [
    {
     "data": {
      "image/png": "[encoded data removed]",
      "text/plain": [
       "<matplotlib.figure.Figure at 0x7f153a985090>"
      ]
     },
     "metadata": {},
     "output_type": "display_data"
    },
    {
     "data": {
      "image/png": "[encoded data removed]",
      "text/plain": [
       "<matplotlib.figure.Figure at 0x7f153ab50950>"
      ]
     },
     "metadata": {},
     "output_type": "display_data"
    }
   ],
   "source": [
    "m_opt.plot_convergence()\n",
    "m_opt.plot_acquisition()"
   ]
  },
  {
   "cell_type": "code",
   "execution_count": 31,
   "metadata": {
    "collapsed": false
   },
   "outputs": [
    {
     "name": "stdout",
     "output_type": "stream",
     "text": [
      "0.00166666666667\n"
     ]
    },
    {
     "data": {
      "text/plain": [
       "array([  1.06559226,  17.        ])"
      ]
     },
     "execution_count": 31,
     "metadata": {},
     "output_type": "execute_result"
    }
   ],
   "source": [
    "print 1/600.\n",
    "m_opt.x_opt"
   ]
  },
  {
   "cell_type": "code",
   "execution_count": 32,
   "metadata": {
    "collapsed": false,
    "scrolled": false
   },
   "outputs": [
    {
     "data": {
      "text/html": [
       "<style type=\"text/css\">\n",
       ".tg  {font-family:\"Courier New\", Courier, monospace !important;padding:2px 3px;word-break:normal;border-collapse:collapse;border-spacing:0;border-color:#DCDCDC;margin:0px auto;width:100%;}\n",
       ".tg td{font-family:\"Courier New\", Courier, monospace !important;font-weight:bold;color:#444;background-color:#F7FDFA;border-style:solid;border-width:1px;overflow:hidden;word-break:normal;border-color:#DCDCDC;}\n",
       ".tg th{font-family:\"Courier New\", Courier, monospace !important;font-weight:normal;color:#fff;background-color:#26ADE4;border-style:solid;border-width:1px;overflow:hidden;word-break:normal;border-color:#DCDCDC;}\n",
       ".tg .tg-left{font-family:\"Courier New\", Courier, monospace !important;font-weight:normal;text-align:left;}\n",
       ".tg .tg-center{font-family:\"Courier New\", Courier, monospace !important;font-weight:normal;text-align:center;}\n",
       ".tg .tg-right{font-family:\"Courier New\", Courier, monospace !important;font-weight:normal;text-align:right;}\n",
       "</style>\n",
       "<table class=\"tg\"><tr><th><b>  sum.             </b></th><th><b>         value</b></th><th><b>constraints</b></th><th><b>priors</b></th></tr>\n",
       "<tr><td class=tg-left>  Mat32.variance   </td><td class=tg-right>0.903801033508</td><td class=tg-center>    +ve    </td><td class=tg-center>      </td></tr>\n",
       "<tr><td class=tg-left>  Mat32.lengthscale</td><td class=tg-right>          (2,)</td><td class=tg-center>    +ve    </td><td class=tg-center>      </td></tr>\n",
       "<tr><td class=tg-left>  bias.variance    </td><td class=tg-right>0.440533303464</td><td class=tg-center>    +ve    </td><td class=tg-center>      </td></tr>\n",
       "</table>"
      ],
      "text/plain": [
       "<GPy.kern.src.add.Add at 0x7f153a99a550>"
      ]
     },
     "execution_count": 32,
     "metadata": {},
     "output_type": "execute_result"
    }
   ],
   "source": [
    "m_opt.kernel"
   ]
  },
  {
   "cell_type": "code",
   "execution_count": 33,
   "metadata": {
    "collapsed": false
   },
   "outputs": [],
   "source": [
    "m.train()\n",
    "prob_prediction = pd.DataFrame(m.predict_proba(test_set.T.values), columns=m.rfc.classes_, index=test_set.columns)\n",
    "prob_prediction['Unknown']=0.\n",
    "trans = prob_prediction>(1 - 1./6.)\n",
    "trans.Unknown = np.sum(trans, axis=1) == 0 \n",
    "prediction = trans.idxmax(axis=1)"
   ]
  },
  {
   "cell_type": "code",
   "execution_count": 34,
   "metadata": {
    "collapsed": false
   },
   "outputs": [
    {
     "data": {
      "text/html": [
       "<div>\n",
       "<table border=\"1\" class=\"dataframe\">\n",
       "  <thead>\n",
       "    <tr style=\"text-align: right;\">\n",
       "      <th></th>\n",
       "      <th>Control</th>\n",
       "      <th>Effect_1</th>\n",
       "      <th>Effect_2</th>\n",
       "      <th>Effect_3</th>\n",
       "      <th>Effect_4</th>\n",
       "      <th>Effect_5</th>\n",
       "      <th>Unknown</th>\n",
       "    </tr>\n",
       "  </thead>\n",
       "  <tbody>\n",
       "    <tr>\n",
       "      <th>Array_10</th>\n",
       "      <td>False</td>\n",
       "      <td>False</td>\n",
       "      <td>False</td>\n",
       "      <td>True</td>\n",
       "      <td>False</td>\n",
       "      <td>False</td>\n",
       "      <td>False</td>\n",
       "    </tr>\n",
       "    <tr>\n",
       "      <th>Array_11</th>\n",
       "      <td>False</td>\n",
       "      <td>False</td>\n",
       "      <td>False</td>\n",
       "      <td>False</td>\n",
       "      <td>False</td>\n",
       "      <td>False</td>\n",
       "      <td>True</td>\n",
       "    </tr>\n",
       "    <tr>\n",
       "      <th>Array_12</th>\n",
       "      <td>True</td>\n",
       "      <td>False</td>\n",
       "      <td>False</td>\n",
       "      <td>False</td>\n",
       "      <td>False</td>\n",
       "      <td>False</td>\n",
       "      <td>False</td>\n",
       "    </tr>\n",
       "    <tr>\n",
       "      <th>Array_13</th>\n",
       "      <td>False</td>\n",
       "      <td>False</td>\n",
       "      <td>False</td>\n",
       "      <td>False</td>\n",
       "      <td>False</td>\n",
       "      <td>False</td>\n",
       "      <td>True</td>\n",
       "    </tr>\n",
       "    <tr>\n",
       "      <th>Array_14</th>\n",
       "      <td>False</td>\n",
       "      <td>False</td>\n",
       "      <td>False</td>\n",
       "      <td>False</td>\n",
       "      <td>False</td>\n",
       "      <td>False</td>\n",
       "      <td>True</td>\n",
       "    </tr>\n",
       "  </tbody>\n",
       "</table>\n",
       "</div>"
      ],
      "text/plain": [
       "         Control Effect_1 Effect_2 Effect_3 Effect_4 Effect_5 Unknown\n",
       "Array_10   False    False    False     True    False    False   False\n",
       "Array_11   False    False    False    False    False    False    True\n",
       "Array_12    True    False    False    False    False    False   False\n",
       "Array_13   False    False    False    False    False    False    True\n",
       "Array_14   False    False    False    False    False    False    True"
      ]
     },
     "execution_count": 34,
     "metadata": {},
     "output_type": "execute_result"
    }
   ],
   "source": [
    "trans.head()"
   ]
  },
  {
   "cell_type": "code",
   "execution_count": 35,
   "metadata": {
    "collapsed": false
   },
   "outputs": [
    {
     "data": {
      "text/plain": [
       "Array_10    Effect_3\n",
       "Array_11     Unknown\n",
       "Array_12     Control\n",
       "Array_13     Unknown\n",
       "Array_14     Unknown\n",
       "dtype: object"
      ]
     },
     "execution_count": 35,
     "metadata": {},
     "output_type": "execute_result"
    }
   ],
   "source": [
    "prediction.head()"
   ]
  },
  {
   "cell_type": "code",
   "execution_count": 36,
   "metadata": {
    "collapsed": false
   },
   "outputs": [
    {
     "name": "stdout",
     "output_type": "stream",
     "text": [
      "0.0\n"
     ]
    },
    {
     "data": {
      "text/html": [
       "<div>\n",
       "<table border=\"1\" class=\"dataframe\">\n",
       "  <thead>\n",
       "    <tr style=\"text-align: right;\">\n",
       "      <th></th>\n",
       "      <th>Control</th>\n",
       "      <th>Effect_1</th>\n",
       "      <th>Effect_2</th>\n",
       "      <th>Effect_3</th>\n",
       "      <th>Effect_4</th>\n",
       "      <th>Effect_5</th>\n",
       "      <th>Unknown</th>\n",
       "    </tr>\n",
       "  </thead>\n",
       "  <tbody>\n",
       "    <tr>\n",
       "      <th>Array_10</th>\n",
       "      <td>0.0</td>\n",
       "      <td>0.0</td>\n",
       "      <td>1.0</td>\n",
       "      <td>0.0</td>\n",
       "      <td>0.0</td>\n",
       "      <td>0.0</td>\n",
       "      <td>0.0</td>\n",
       "    </tr>\n",
       "    <tr>\n",
       "      <th>Array_11</th>\n",
       "      <td>0.0</td>\n",
       "      <td>0.0</td>\n",
       "      <td>1.0</td>\n",
       "      <td>0.0</td>\n",
       "      <td>0.0</td>\n",
       "      <td>0.0</td>\n",
       "      <td>0.0</td>\n",
       "    </tr>\n",
       "    <tr>\n",
       "      <th>Array_12</th>\n",
       "      <td>0.0</td>\n",
       "      <td>0.0</td>\n",
       "      <td>1.0</td>\n",
       "      <td>0.0</td>\n",
       "      <td>0.0</td>\n",
       "      <td>0.0</td>\n",
       "      <td>0.0</td>\n",
       "    </tr>\n",
       "    <tr>\n",
       "      <th>Array_13</th>\n",
       "      <td>0.0</td>\n",
       "      <td>0.0</td>\n",
       "      <td>1.0</td>\n",
       "      <td>0.0</td>\n",
       "      <td>0.0</td>\n",
       "      <td>0.0</td>\n",
       "      <td>0.0</td>\n",
       "    </tr>\n",
       "    <tr>\n",
       "      <th>Array_14</th>\n",
       "      <td>0.0</td>\n",
       "      <td>0.0</td>\n",
       "      <td>1.0</td>\n",
       "      <td>0.0</td>\n",
       "      <td>0.0</td>\n",
       "      <td>0.0</td>\n",
       "      <td>0.0</td>\n",
       "    </tr>\n",
       "  </tbody>\n",
       "</table>\n",
       "</div>"
      ],
      "text/plain": [
       "          Control  Effect_1  Effect_2  Effect_3  Effect_4  Effect_5  Unknown\n",
       "Array_10      0.0       0.0       1.0       0.0       0.0       0.0      0.0\n",
       "Array_11      0.0       0.0       1.0       0.0       0.0       0.0      0.0\n",
       "Array_12      0.0       0.0       1.0       0.0       0.0       0.0      0.0\n",
       "Array_13      0.0       0.0       1.0       0.0       0.0       0.0      0.0\n",
       "Array_14      0.0       0.0       1.0       0.0       0.0       0.0      0.0"
      ]
     },
     "execution_count": 36,
     "metadata": {},
     "output_type": "execute_result"
    }
   ],
   "source": [
    "col = ['Control'] + ['Effect_{}'.format(i) for i in range(1,8)]\n",
    "true_labels = pd.DataFrame(np.zeros((test_labels.shape[0],8)), columns=col, index=test_set.columns)\n",
    "for ind in test_labels.index:\n",
    "    true_labels[test_labels[ind]][ind]=1\n",
    "true_labels['Unknown'] = true_labels['Effect_6'] + true_labels['Effect_7']\n",
    "del true_labels['Effect_6']\n",
    "del true_labels['Effect_7']\n",
    "col = ['Control'] + ['Effect_{}'.format(i) for i in range(1,6)] +['Unknown']\n",
    "print np.sum(true_labels['Effect_3'])\n",
    "true_labels.head()\n"
   ]
  },
  {
   "cell_type": "code",
   "execution_count": 37,
   "metadata": {
    "collapsed": true
   },
   "outputs": [],
   "source": [
    "from sklearn.metrics import precision_recall_curve, average_precision_score"
   ]
  },
  {
   "cell_type": "code",
   "execution_count": 38,
   "metadata": {
    "collapsed": false
   },
   "outputs": [],
   "source": [
    "precision = dict()\n",
    "recall = dict()\n",
    "average_precision = dict()\n",
    "\n",
    "for i in range(7):\n",
    "    precision[col[i]], recall[col[i]], _ = precision_recall_curve(true_labels.values[:, i],\n",
    "                                                        prob_prediction.values[:, i])\n",
    "    average_precision[col[i]] = average_precision_score(true_labels.values[:, i], prob_prediction.values[:, i])\n"
   ]
  },
  {
   "cell_type": "code",
   "execution_count": 39,
   "metadata": {
    "collapsed": false
   },
   "outputs": [
    {
     "data": {
      "image/png": "[encoded data removed]",
      "text/plain": [
       "<matplotlib.figure.Figure at 0x7f1558b26050>"
      ]
     },
     "metadata": {},
     "output_type": "display_data"
    }
   ],
   "source": [
    "k = col[0]\n",
    "plt.clf()\n",
    "for k in col:\n",
    "    plt.plot(recall[k], precision[k], label='{0}'.format( k))\n",
    "plt.xlabel('Recall')\n",
    "plt.ylabel('Precision')\n",
    "plt.ylim([0.0, 1.05])\n",
    "plt.xlim([0.0, 1.0])\n",
    "plt.title('Precision-Recall')\n",
    "plt.legend(loc=\"lower left\")\n",
    "plt.show()\n"
   ]
  },
  {
   "cell_type": "code",
   "execution_count": 40,
   "metadata": {
    "collapsed": false
   },
   "outputs": [
    {
     "name": "stdout",
     "output_type": "stream",
     "text": [
      "             precision    recall  f1-score   support\n",
      "\n",
      "    Control       0.29      0.33      0.31         6\n",
      "   Effect_1       0.50      0.22      0.31         9\n",
      "   Effect_2       0.00      0.00      0.00         9\n",
      "   Effect_3       0.00      0.00      0.00         0\n",
      "   Effect_4       0.00      0.00      0.00         0\n",
      "   Effect_5       0.00      0.00      0.00         0\n",
      "    Unknown       0.39      0.39      0.39        18\n",
      "\n",
      "avg / total       0.31      0.26      0.28        42\n",
      "\n",
      "0.261904761905\n"
     ]
    }
   ],
   "source": [
    "from sklearn.metrics import classification_report, accuracy_score\n",
    "print classification_report(true_labels.idxmax(axis=1), prediction.values)\n",
    "print accuracy_score(true_labels.idxmax(axis=1), prediction.values)"
   ]
  },
  {
   "cell_type": "code",
   "execution_count": 41,
   "metadata": {
    "collapsed": false,
    "scrolled": false
   },
   "outputs": [
    {
     "data": {
      "text/html": [
       "<div>\n",
       "<table border=\"1\" class=\"dataframe\">\n",
       "  <thead>\n",
       "    <tr style=\"text-align: right;\">\n",
       "      <th></th>\n",
       "      <th>Control</th>\n",
       "      <th>Effect_1</th>\n",
       "      <th>Effect_2</th>\n",
       "      <th>Effect_3</th>\n",
       "      <th>Effect_4</th>\n",
       "      <th>Effect_5</th>\n",
       "      <th>Unknown</th>\n",
       "    </tr>\n",
       "  </thead>\n",
       "  <tbody>\n",
       "    <tr>\n",
       "      <th>Control</th>\n",
       "      <td>2</td>\n",
       "      <td>0</td>\n",
       "      <td>0</td>\n",
       "      <td>0</td>\n",
       "      <td>1</td>\n",
       "      <td>0</td>\n",
       "      <td>3</td>\n",
       "    </tr>\n",
       "    <tr>\n",
       "      <th>Effect_1</th>\n",
       "      <td>1</td>\n",
       "      <td>2</td>\n",
       "      <td>1</td>\n",
       "      <td>2</td>\n",
       "      <td>1</td>\n",
       "      <td>0</td>\n",
       "      <td>2</td>\n",
       "    </tr>\n",
       "    <tr>\n",
       "      <th>Effect_2</th>\n",
       "      <td>2</td>\n",
       "      <td>0</td>\n",
       "      <td>0</td>\n",
       "      <td>1</td>\n",
       "      <td>0</td>\n",
       "      <td>0</td>\n",
       "      <td>6</td>\n",
       "    </tr>\n",
       "    <tr>\n",
       "      <th>Effect_3</th>\n",
       "      <td>0</td>\n",
       "      <td>0</td>\n",
       "      <td>0</td>\n",
       "      <td>0</td>\n",
       "      <td>0</td>\n",
       "      <td>0</td>\n",
       "      <td>0</td>\n",
       "    </tr>\n",
       "    <tr>\n",
       "      <th>Effect_4</th>\n",
       "      <td>0</td>\n",
       "      <td>0</td>\n",
       "      <td>0</td>\n",
       "      <td>0</td>\n",
       "      <td>0</td>\n",
       "      <td>0</td>\n",
       "      <td>0</td>\n",
       "    </tr>\n",
       "    <tr>\n",
       "      <th>Effect_5</th>\n",
       "      <td>0</td>\n",
       "      <td>0</td>\n",
       "      <td>0</td>\n",
       "      <td>0</td>\n",
       "      <td>0</td>\n",
       "      <td>0</td>\n",
       "      <td>0</td>\n",
       "    </tr>\n",
       "    <tr>\n",
       "      <th>Unknown</th>\n",
       "      <td>2</td>\n",
       "      <td>2</td>\n",
       "      <td>0</td>\n",
       "      <td>5</td>\n",
       "      <td>0</td>\n",
       "      <td>2</td>\n",
       "      <td>7</td>\n",
       "    </tr>\n",
       "  </tbody>\n",
       "</table>\n",
       "</div>"
      ],
      "text/plain": [
       "          Control  Effect_1  Effect_2  Effect_3  Effect_4  Effect_5  Unknown\n",
       "Control         2         0         0         0         1         0        3\n",
       "Effect_1        1         2         1         2         1         0        2\n",
       "Effect_2        2         0         0         1         0         0        6\n",
       "Effect_3        0         0         0         0         0         0        0\n",
       "Effect_4        0         0         0         0         0         0        0\n",
       "Effect_5        0         0         0         0         0         0        0\n",
       "Unknown         2         2         0         5         0         2        7"
      ]
     },
     "execution_count": 41,
     "metadata": {},
     "output_type": "execute_result"
    }
   ],
   "source": [
    "from sklearn.metrics import confusion_matrix\n",
    "pd.DataFrame(confusion_matrix(true_labels.idxmax(axis=1), prediction, labels= true_labels.columns), columns=true_labels.columns, index=true_labels.columns)"
   ]
  },
  {
   "cell_type": "code",
   "execution_count": null,
   "metadata": {
    "collapsed": true
   },
   "outputs": [],
   "source": []
  },
  {
   "cell_type": "code",
   "execution_count": null,
   "metadata": {
    "collapsed": true
   },
   "outputs": [],
   "source": []
  },
  {
   "cell_type": "code",
   "execution_count": null,
   "metadata": {
    "collapsed": true
   },
   "outputs": [],
   "source": []
  }
 ],
 "metadata": {
  "kernelspec": {
   "display_name": "Python 2",
   "language": "python",
   "name": "python2"
  },
  "language_info": {
   "codemirror_mode": {
    "name": "ipython",
    "version": 2
   },
   "file_extension": ".py",
   "mimetype": "text/x-python",
   "name": "python",
   "nbconvert_exporter": "python",
   "pygments_lexer": "ipython2",
   "version": "2.7.11"
  }
 },
 "nbformat": 4,
 "nbformat_minor": 0
}
