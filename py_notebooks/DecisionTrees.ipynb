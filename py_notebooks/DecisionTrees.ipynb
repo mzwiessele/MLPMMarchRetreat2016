{
 "cells": [
  {
   "cell_type": "code",
   "execution_count": 34,
   "metadata": {
    "collapsed": false
   },
   "outputs": [],
   "source": [
    "from sklearn import svm\n",
    "import GPyOpt, numpy as np, seaborn as sns\n",
    "%matplotlib inline"
   ]
  },
  {
   "cell_type": "code",
   "execution_count": 2,
   "metadata": {
    "collapsed": false
   },
   "outputs": [
    {
     "name": "stdout",
     "output_type": "stream",
     "text": [
      "loading rnaseq data\n",
      "rnaseq_all_genes: (11216, 104)\n",
      "rnaseq_effector_genes: (1044, 104)\n",
      "rnaseq_mod_activities: (89, 104)\n",
      "rnaseq_mod_genevals: (172, 104)\n",
      "rnaseq_mod_nodevals: (462, 104)\n",
      "rnaseq_signaling_genes: (2184, 104)\n",
      "rnaseq_design: (104, 4)\n"
     ]
    }
   ],
   "source": [
    "%run collect_and_name_data.py rnaseq"
   ]
  },
  {
   "cell_type": "code",
   "execution_count": 3,
   "metadata": {
    "collapsed": true
   },
   "outputs": [],
   "source": [
    "from paramz import Model, Param"
   ]
  },
  {
   "cell_type": "code",
   "execution_count": 19,
   "metadata": {
    "collapsed": false
   },
   "outputs": [],
   "source": [
    "def get_classification_results(true_y, pred_y):\n",
    "    from sklearn.metrics import accuracy_score, precision_score, recall_score, f1_score\n",
    "    return pd.DataFrame([\n",
    "        accuracy_score(true_y, pred_y), \n",
    "        precision_score(true_y, pred_y),\n",
    "        recall_score(true_y, pred_y),\n",
    "        f1_score(true_y, pred_y)\n",
    "    ],['accuracy', 'precision', 'recall', 'f1'])"
   ]
  },
  {
   "cell_type": "code",
   "execution_count": 45,
   "metadata": {
    "collapsed": true
   },
   "outputs": [],
   "source": [
    "train_idx = design.Set == design.Set.unique()[0]\n",
    "test_idx = ~train_idx    \n",
    "\n",
    "train_labels = design.loc[train_idx, 'Effect']\n",
    "test_labels = design.loc[test_idx, 'Effect']\n",
    "\n",
    "test_labels_collected = test_labels.copy()\n",
    "test_labels_collected[(test_labels_collected=='Effect_6')+(test_labels_collected=='Effect_7')] = 'Unknown'\n",
    "#test_labels_collected = pd.get_dummies(test_labels_collected)"
   ]
  },
  {
   "cell_type": "code",
   "execution_count": 46,
   "metadata": {
    "collapsed": true
   },
   "outputs": [],
   "source": [
    "def get_train_test_set(data, train_idx, test_idx):\n",
    "    train_set = data.loc[:, train_idx].copy()\n",
    "    from sklearn.preprocessing import StandardScaler\n",
    "    normalizer = StandardScaler()\n",
    "    train_set[:] = normalizer.fit_transform(train_set.T).T\n",
    "\n",
    "    test_set = data.loc[:, test_idx].copy()\n",
    "    test_set[:] = normalizer.transform(test_set.T).T\n",
    "    \n",
    "    return train_set, test_set"
   ]
  },
  {
   "cell_type": "code",
   "execution_count": 47,
   "metadata": {
    "collapsed": true
   },
   "outputs": [],
   "source": [
    "from sklearn.tree import DecisionTreeClassifier\n",
    "from sklearn.cross_validation import StratifiedKFold"
   ]
  },
  {
   "cell_type": "code",
   "execution_count": 48,
   "metadata": {
    "collapsed": true
   },
   "outputs": [],
   "source": [
    "StratifiedKFold?"
   ]
  },
  {
   "cell_type": "code",
   "execution_count": 60,
   "metadata": {
    "collapsed": false
   },
   "outputs": [],
   "source": [
    "train_errors = {}\n",
    "sk = StratifiedKFold(train_labels, 5)\n",
    "\n",
    "for i in range(len(all_data)):\n",
    "    data = all_data[i]\n",
    "    train_set, test_set = get_train_test_set(data, train_idx, test_idx)\n",
    "    tree = DecisionTreeClassifier()\n",
    "    err = []\n",
    "    for tr, te in sk:\n",
    "        tree.fit(train_set.T.values[tr], train_labels.values[tr])\n",
    "        prediction = tree.predict(train_set.T.values[te])\n",
    "        err.append(get_classification_results(train_labels.values[te], prediction))\n",
    "    train_errors[data.name] = pd.concat(err, 1).mean(1)"
   ]
  },
  {
   "cell_type": "code",
   "execution_count": 61,
   "metadata": {
    "collapsed": false
   },
   "outputs": [
    {
     "data": {
      "text/html": [
       "<div>\n",
       "<table border=\"1\" class=\"dataframe\">\n",
       "  <thead>\n",
       "    <tr style=\"text-align: right;\">\n",
       "      <th></th>\n",
       "      <th>accuracy</th>\n",
       "      <th>precision</th>\n",
       "      <th>recall</th>\n",
       "      <th>f1</th>\n",
       "    </tr>\n",
       "  </thead>\n",
       "  <tbody>\n",
       "    <tr>\n",
       "      <th>all_genes</th>\n",
       "      <td>0.736905</td>\n",
       "      <td>0.708313</td>\n",
       "      <td>0.736905</td>\n",
       "      <td>0.694059</td>\n",
       "    </tr>\n",
       "    <tr>\n",
       "      <th>effector_genes</th>\n",
       "      <td>0.620238</td>\n",
       "      <td>0.585298</td>\n",
       "      <td>0.620238</td>\n",
       "      <td>0.570374</td>\n",
       "    </tr>\n",
       "    <tr>\n",
       "      <th>mod_activities</th>\n",
       "      <td>0.520238</td>\n",
       "      <td>0.560397</td>\n",
       "      <td>0.520238</td>\n",
       "      <td>0.499467</td>\n",
       "    </tr>\n",
       "    <tr>\n",
       "      <th>mod_genevalues</th>\n",
       "      <td>0.578571</td>\n",
       "      <td>0.567302</td>\n",
       "      <td>0.578571</td>\n",
       "      <td>0.544246</td>\n",
       "    </tr>\n",
       "    <tr>\n",
       "      <th>mod_nodevalues</th>\n",
       "      <td>0.576190</td>\n",
       "      <td>0.551825</td>\n",
       "      <td>0.576190</td>\n",
       "      <td>0.537897</td>\n",
       "    </tr>\n",
       "  </tbody>\n",
       "</table>\n",
       "</div>"
      ],
      "text/plain": [
       "                accuracy  precision    recall        f1\n",
       "all_genes       0.736905   0.708313  0.736905  0.694059\n",
       "effector_genes  0.620238   0.585298  0.620238  0.570374\n",
       "mod_activities  0.520238   0.560397  0.520238  0.499467\n",
       "mod_genevalues  0.578571   0.567302  0.578571  0.544246\n",
       "mod_nodevalues  0.576190   0.551825  0.576190  0.537897"
      ]
     },
     "execution_count": 61,
     "metadata": {},
     "output_type": "execute_result"
    }
   ],
   "source": [
    "errors = pd.concat(train_errors).unstack()\n",
    "errors.head()"
   ]
  },
  {
   "cell_type": "code",
   "execution_count": 62,
   "metadata": {
    "collapsed": false
   },
   "outputs": [
    {
     "data": {
      "text/plain": [
       "<matplotlib.axes._subplots.AxesSubplot at 0x11588d450>"
      ]
     },
     "execution_count": 62,
     "metadata": {},
     "output_type": "execute_result"
    },
    {
     "data": {
      "image/png": "[encoded data removed]",
      "text/plain": [
       "<matplotlib.figure.Figure at 0x115792a90>"
      ]
     },
     "metadata": {},
     "output_type": "display_data"
    }
   ],
   "source": [
    "errors.plot(kind='bar')"
   ]
  },
  {
   "cell_type": "code",
   "execution_count": 63,
   "metadata": {
    "collapsed": false
   },
   "outputs": [
    {
     "data": {
      "text/plain": [
       "DecisionTreeClassifier(class_weight=None, criterion='gini', max_depth=None,\n",
       "            max_features=None, max_leaf_nodes=None, min_samples_leaf=1,\n",
       "            min_samples_split=2, min_weight_fraction_leaf=0.0,\n",
       "            presort=False, random_state=None, splitter='best')"
      ]
     },
     "execution_count": 63,
     "metadata": {},
     "output_type": "execute_result"
    }
   ],
   "source": [
    "data = all_data[0]\n",
    "train_set, test_set = get_train_test_set(data, train_idx, test_idx)\n",
    "tree.fit(train_set.T.values[tr], train_labels.values[tr])"
   ]
  },
  {
   "cell_type": "code",
   "execution_count": 66,
   "metadata": {
    "collapsed": true
   },
   "outputs": [],
   "source": [
    "prediction_probabilities = pd.DataFrame(tree.predict_proba(test_set.T.values), index=test_set.columns, columns=tree.classes_)"
   ]
  },
  {
   "cell_type": "code",
   "execution_count": 70,
   "metadata": {
    "collapsed": false
   },
   "outputs": [
    {
     "name": "stdout",
     "output_type": "stream",
     "text": [
      "             precision    recall  f1-score   support\n",
      "\n",
      "    Control       0.33      1.00      0.50         2\n",
      "   Effect_1       0.56      0.38      0.45        13\n",
      "   Effect_2       0.33      0.50      0.40         6\n",
      "   Effect_3       0.00      0.00      0.00         1\n",
      "   Effect_4       0.00      0.00      0.00        13\n",
      "   Effect_5       0.00      0.00      0.00         7\n",
      "   Effect_6       0.00      0.00      0.00         0\n",
      "   Effect_7       0.00      0.00      0.00         0\n",
      "\n",
      "avg / total       0.24      0.24      0.22        42\n",
      "\n"
     ]
    }
   ],
   "source": [
    "from sklearn.metrics import classification_report\n",
    "print classification_report(prediction_probabilities.idxmax(1), test_labels)"
   ]
  },
  {
   "cell_type": "markdown",
   "metadata": {},
   "source": [
    "# Nope!"
   ]
  },
  {
   "cell_type": "code",
   "execution_count": null,
   "metadata": {
    "collapsed": true
   },
   "outputs": [],
   "source": []
  }
 ],
 "metadata": {
  "kernelspec": {
   "display_name": "Python 2",
   "language": "python",
   "name": "python2"
  },
  "language_info": {
   "codemirror_mode": {
    "name": "ipython",
    "version": 2
   },
   "file_extension": ".py",
   "mimetype": "text/x-python",
   "name": "python",
   "nbconvert_exporter": "python",
   "pygments_lexer": "ipython2",
   "version": "2.7.11"
  }
 },
 "nbformat": 4,
 "nbformat_minor": 0
}
