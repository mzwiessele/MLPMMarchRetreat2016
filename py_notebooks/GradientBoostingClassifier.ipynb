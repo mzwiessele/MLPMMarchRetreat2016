{
 "cells": [
  {
   "cell_type": "markdown",
   "metadata": {
    "collapsed": true
   },
   "source": [
    "# Nope!"
   ]
  },
  {
   "cell_type": "markdown",
   "metadata": {},
   "source": [
    "# Gradient Boosting Classifier\n",
    "http://scikit-learn.org/stable/modules/generated/sklearn.ensemble.GradientBoostingClassifier.html#sklearn.ensemble.GradientBoostingClassifier"
   ]
  },
  {
   "cell_type": "code",
   "execution_count": 4,
   "metadata": {
    "collapsed": false
   },
   "outputs": [],
   "source": [
    "from sklearn import ensemble\n",
    "import GPyOpt, numpy as np, seaborn as sns, matplotlib.pyplot as plt\n",
    "%matplotlib inline"
   ]
  },
  {
   "cell_type": "code",
   "execution_count": 2,
   "metadata": {
    "collapsed": false
   },
   "outputs": [
    {
     "name": "stdout",
     "output_type": "stream",
     "text": [
      "loading rnaseq data\n",
      "rnaseq_all_genes: (11216, 104)\n",
      "rnaseq_effector_genes: (1044, 104)\n",
      "rnaseq_mod_activities: (89, 104)\n",
      "rnaseq_mod_genevals: (172, 104)\n",
      "rnaseq_mod_nodevals: (462, 104)\n",
      "rnaseq_signaling_genes: (2184, 104)\n",
      "rnaseq_design: (104, 4)\n"
     ]
    }
   ],
   "source": [
    "%run collect_and_name_data.py rnaseq"
   ]
  },
  {
   "cell_type": "code",
   "execution_count": 3,
   "metadata": {
    "collapsed": true
   },
   "outputs": [],
   "source": [
    "from paramz import Model, Param"
   ]
  },
  {
   "cell_type": "code",
   "execution_count": 16,
   "metadata": {
    "collapsed": true
   },
   "outputs": [],
   "source": [
    "class ParamzGradientBoostingClassifier(Model):\n",
    "    def __init__(self, X, y, learning_rate=1., name='ParamzGradientBoostingClassifier'):\n",
    "        from sklearn.cross_validation import StratifiedKFold\n",
    "        super(ParamzGradientBoostingClassifier, self).__init__(name=name)\n",
    "\n",
    "        self.X = X\n",
    "        self.y = y\n",
    "        \n",
    "        self.learning_rate = Param('learning rate', learning_rate)\n",
    "        self.link_parameter(self.learning_rate)\n",
    "        self.sk = StratifiedKFold(train_labels, shuffle=True, n_folds=5)\n",
    "        \n",
    "    def parameters_changed(self):\n",
    "        from sklearn.metrics import f1_score\n",
    "    \n",
    "        self._obj = 0.\n",
    "        #svc = svm.LinearSVC(C=float(self.C.values), class_weight='balanced')\n",
    "        svc = ensemble.GradientBoostingClassifier(learning_rate=float(self.learning_rate.values), \n",
    "                                                  n_estimators=50,\n",
    "                                                  max_depth=3,\n",
    "                                                  )\n",
    "    \n",
    "        for train_index, test_index in self.sk:\n",
    "            svc = svc.fit(self.X[train_index], self.y[train_index])\n",
    "            prediction = svc.predict(self.X[test_index])\n",
    "            self._obj += f1_score(self.y[test_index], prediction)/float(self.sk.n_folds)\n",
    "            \n",
    "    def objective_function(self):\n",
    "        import numpy as np\n",
    "        #print self._obj,\n",
    "        return -np.atleast_1d(self._obj)"
   ]
  },
  {
   "cell_type": "code",
   "execution_count": 17,
   "metadata": {
    "collapsed": true
   },
   "outputs": [],
   "source": [
    "train_idx = design.Set == design.Set.unique()[0]\n",
    "test_idx = ~train_idx    \n",
    "\n",
    "train_labels = design.loc[train_idx, 'Effect']\n",
    "test_labels = design.loc[test_idx, 'Effect']"
   ]
  },
  {
   "cell_type": "code",
   "execution_count": 18,
   "metadata": {
    "collapsed": true
   },
   "outputs": [],
   "source": [
    "def get_train_test_set(data, train_idx, test_idx):\n",
    "    train_set = data.loc[:, train_idx].copy()\n",
    "    from sklearn.preprocessing import StandardScaler\n",
    "    normalizer = StandardScaler()\n",
    "    train_set[:] = normalizer.fit_transform(train_set.T).T\n",
    "\n",
    "    test_set = data.loc[:, test_idx].copy()\n",
    "    test_set[:] = normalizer.transform(test_set.T).T\n",
    "    \n",
    "    return train_set, test_set"
   ]
  },
  {
   "cell_type": "code",
   "execution_count": 19,
   "metadata": {
    "collapsed": false
   },
   "outputs": [],
   "source": [
    "def make_f(m):\n",
    "    def f(X):\n",
    "        ret = np.empty((X.shape[0],1))\n",
    "        for i in range(X.shape[0]):\n",
    "            ret[i] = m._objective(X[i])\n",
    "        return ret\n",
    "    return f"
   ]
  },
  {
   "cell_type": "code",
   "execution_count": 20,
   "metadata": {
    "collapsed": false
   },
   "outputs": [
    {
     "name": "stdout",
     "output_type": "stream",
     "text": [
      "all_genes\n",
      "\n",
      "*Optimization completed:\n",
      "   -Method converged.\n",
      "\n",
      "effector_genes\n",
      "\n",
      "*Optimization completed:\n",
      "   -Maximum number of iterations reached.\n",
      "\n",
      "mod_activities\n",
      "\n",
      "*Optimization completed:\n",
      "   -Maximum number of iterations reached.\n",
      "\n",
      "mod_genevalues\n",
      "\n",
      "*Optimization completed:\n",
      "   -Method converged.\n",
      "\n",
      "mod_nodevalues\n",
      "\n",
      "*Optimization completed:\n",
      "   -Method converged.\n",
      "\n",
      "signaling_genes\n",
      "\n",
      "*Optimization completed:\n",
      "   -Method converged.\n",
      "\n"
     ]
    }
   ],
   "source": [
    "train_errors = {}\n",
    "\n",
    "for i in range(len(all_data)):\n",
    "    data = all_data[i]\n",
    "    print data.name\n",
    "    train_set, test_set = get_train_test_set(data, train_idx, test_idx)\n",
    "    \n",
    "    m = ParamzGradientBoostingClassifier(train_set.T.values, train_labels.values)\n",
    "    m_opt = GPyOpt.methods.BayesianOptimization(make_f(m), \n",
    "                                            bounds=[\n",
    "                                                    (np.exp(-15),1.),\n",
    "                                                    ], \n",
    "                                            model_optimize_restarts = 15,\n",
    "                                            normalize=True,\n",
    "                                            acquisition = 'EI',\n",
    "                                            type_initial_design='latin')\n",
    "    print\n",
    "    m_opt.run_optimization(60, eps=1e-5)\n",
    "    print\n",
    "    train_errors[data.name] = [m_opt.fx_opt, m_opt.x_opt]"
   ]
  },
  {
   "cell_type": "code",
   "execution_count": 21,
   "metadata": {
    "collapsed": false
   },
   "outputs": [
    {
     "data": {
      "text/plain": [
       "{'all_genes': [array([-0.83428571]), array([ 0.85432847])],\n",
       " 'effector_genes': [array([-0.71079365]), array([ 0.28548494])],\n",
       " 'mod_activities': [array([-0.72612245]), array([ 0.59121261])],\n",
       " 'mod_genevalues': [array([-0.61154762]), array([ 0.99927487])],\n",
       " 'mod_nodevalues': [array([-0.64751804]), array([ 0.00750281])],\n",
       " 'signaling_genes': [array([-0.75204082]), array([ 0.96789725])]}"
      ]
     },
     "execution_count": 21,
     "metadata": {},
     "output_type": "execute_result"
    }
   ],
   "source": [
    "train_errors"
   ]
  },
  {
   "cell_type": "code",
   "execution_count": 22,
   "metadata": {
    "collapsed": false
   },
   "outputs": [],
   "source": [
    "results = pd.DataFrame(columns=['acc', 'C', 'gamma'], \n",
    "                       index=train_errors.keys(),\n",
    "                       dtype=float)\n",
    "acc, cg = zip(*train_errors.values())\n",
    "results['acc'] = -np.concatenate(acc)\n",
    "results['learning_rate'] = cg"
   ]
  },
  {
   "cell_type": "code",
   "execution_count": 23,
   "metadata": {
    "collapsed": false
   },
   "outputs": [
    {
     "data": {
      "text/plain": [
       "<matplotlib.axes._subplots.AxesSubplot at 0x11005d8d0>"
      ]
     },
     "execution_count": 23,
     "metadata": {},
     "output_type": "execute_result"
    },
    {
     "data": {
      "image/png": "[encoded data removed]",
      "text/plain": [
       "<matplotlib.figure.Figure at 0x11005d710>"
      ]
     },
     "metadata": {},
     "output_type": "display_data"
    }
   ],
   "source": [
    "results.plot(kind='bar', y='acc')"
   ]
  },
  {
   "cell_type": "code",
   "execution_count": 24,
   "metadata": {
    "collapsed": false
   },
   "outputs": [
    {
     "name": "stdout",
     "output_type": "stream",
     "text": [
      "all_genes\n"
     ]
    }
   ],
   "source": [
    "best = results.acc.idxmax(0)\n",
    "print best"
   ]
  },
  {
   "cell_type": "markdown",
   "metadata": {},
   "source": [
    "## Work on best training data:"
   ]
  },
  {
   "cell_type": "code",
   "execution_count": 25,
   "metadata": {
    "collapsed": true
   },
   "outputs": [],
   "source": [
    "svc = ensemble.GradientBoostingClassifier(learning_rate=float(results.acc.max()), \n",
    "                                                  n_estimators=50,\n",
    "                                                  max_depth=3,\n",
    "                                                  )\n",
    "    "
   ]
  },
  {
   "cell_type": "code",
   "execution_count": 26,
   "metadata": {
    "collapsed": false
   },
   "outputs": [
    {
     "data": {
      "text/plain": [
       "GradientBoostingClassifier(init=None, learning_rate=0.834285714286,\n",
       "              loss='deviance', max_depth=3, max_features=None,\n",
       "              max_leaf_nodes=None, min_samples_leaf=1, min_samples_split=2,\n",
       "              min_weight_fraction_leaf=0.0, n_estimators=50,\n",
       "              presort='auto', random_state=None, subsample=1.0, verbose=0,\n",
       "              warm_start=False)"
      ]
     },
     "execution_count": 26,
     "metadata": {},
     "output_type": "execute_result"
    }
   ],
   "source": [
    "train_set, test_set = get_train_test_set(rnaseq_all_genes, train_idx, test_idx)\n",
    "svc.fit(train_set.T.values, train_labels)"
   ]
  },
  {
   "cell_type": "code",
   "execution_count": 27,
   "metadata": {
    "collapsed": false
   },
   "outputs": [],
   "source": [
    "prediction_probabilities = pd.DataFrame(svc.predict_proba(test_set.T.values), index=test_set.columns, columns=svc.classes_)"
   ]
  },
  {
   "cell_type": "code",
   "execution_count": 28,
   "metadata": {
    "collapsed": true
   },
   "outputs": [],
   "source": [
    "test_labels.value_counts()\n",
    "test_labels_collected = test_labels.copy()\n",
    "test_labels_collected[(test_labels_collected=='Effect_6')+(test_labels_collected=='Effect_7')] = 'Unknown'\n",
    "#test_labels_collected = pd.get_dummies(test_labels_collected)"
   ]
  },
  {
   "cell_type": "markdown",
   "metadata": {},
   "source": [
    "## Roc curve for each class:"
   ]
  },
  {
   "cell_type": "code",
   "execution_count": 43,
   "metadata": {
    "collapsed": true
   },
   "outputs": [],
   "source": [
    "from sklearn.metrics import roc_curve, roc_auc_score, accuracy_score, precision_score, recall_score, f1_score, classification_report, confusion_matrix"
   ]
  },
  {
   "cell_type": "code",
   "execution_count": 30,
   "metadata": {
    "collapsed": false
   },
   "outputs": [],
   "source": [
    "rocs = {}\n",
    "for c in prediction_probabilities.columns:\n",
    "    rocs[c] = roc_curve(test_labels_collected==c, prediction_probabilities[c])"
   ]
  },
  {
   "cell_type": "code",
   "execution_count": 31,
   "metadata": {
    "collapsed": false
   },
   "outputs": [
    {
     "data": {
      "text/plain": [
       "<matplotlib.legend.Legend at 0x111e55590>"
      ]
     },
     "execution_count": 31,
     "metadata": {},
     "output_type": "execute_result"
    },
    {
     "data": {
      "image/png": "[encoded data removed]",
      "text/plain": [
       "<matplotlib.figure.Figure at 0x111dc7590>"
      ]
     },
     "metadata": {},
     "output_type": "display_data"
    }
   ],
   "source": [
    "for name in rocs:\n",
    "    plt.plot(rocs[name][0], rocs[name][1], label=name)\n",
    "plt.legend()"
   ]
  },
  {
   "cell_type": "markdown",
   "metadata": {},
   "source": [
    "## Try to use the predicted probabilities to find unknown classes:"
   ]
  },
  {
   "cell_type": "code",
   "execution_count": 33,
   "metadata": {
    "collapsed": true
   },
   "outputs": [],
   "source": [
    "def predict_classes(prediction_probabilities, threshold):\n",
    "    import scipy\n",
    "    #sort = np.argsort(prediction_probabilities, 1).values[:, ::-1]\n",
    "    prediction = prediction_probabilities.idxmax(1)\n",
    "    #score = prediction_probabilities.std(1)\n",
    "    score = prediction_probabilities.max(1)\n",
    "    prediction[score<threshold] = 'Unknown'\n",
    "    return prediction"
   ]
  },
  {
   "cell_type": "code",
   "execution_count": 34,
   "metadata": {
    "collapsed": false
   },
   "outputs": [],
   "source": [
    "thresholds = np.linspace(0,1,300)\n",
    "accs = pd.DataFrame(columns=['acc', 'prec', 'recall'], index=thresholds)\n",
    "for t in thresholds:\n",
    "    prediction = predict_classes(prediction_probabilities, t)\n",
    "    accs.loc[t] = [accuracy_score(test_labels_collected, prediction), precision_score(test_labels_collected, prediction), recall_score(test_labels_collected, prediction)]"
   ]
  },
  {
   "cell_type": "code",
   "execution_count": 51,
   "metadata": {
    "collapsed": false
   },
   "outputs": [
    {
     "data": {
      "text/plain": [
       "<matplotlib.text.Text at 0x1140583d0>"
      ]
     },
     "execution_count": 51,
     "metadata": {},
     "output_type": "execute_result"
    },
    {
     "data": {
      "image/png": "[encoded data removed]",
      "text/plain": [
       "<matplotlib.figure.Figure at 0x11365de50>"
      ]
     },
     "metadata": {},
     "output_type": "display_data"
    }
   ],
   "source": [
    "ax = accs.plot()\n",
    "ax.set_title('Performance along probability threshold')"
   ]
  },
  {
   "cell_type": "code",
   "execution_count": 54,
   "metadata": {
    "collapsed": false
   },
   "outputs": [],
   "source": [
    "best = prediction_probabilities.idxmax(1)\n",
    "score = prediction_probabilities.max(1)\n",
    "best[score<accs.acc.idxmax()] = 'Unknown'"
   ]
  },
  {
   "cell_type": "code",
   "execution_count": 55,
   "metadata": {
    "collapsed": false
   },
   "outputs": [
    {
     "data": {
      "text/plain": [
       "(array(['Unknown'], dtype=object),\n",
       " array(['Control', 'Effect_2', 'Unknown', 'Effect_1'], dtype=object))"
      ]
     },
     "execution_count": 55,
     "metadata": {},
     "output_type": "execute_result"
    }
   ],
   "source": [
    "best.unique(),test_labels_collected.unique()"
   ]
  },
  {
   "cell_type": "code",
   "execution_count": 56,
   "metadata": {
    "collapsed": false
   },
   "outputs": [
    {
     "data": {
      "text/plain": [
       "0.42857142857142855"
      ]
     },
     "execution_count": 56,
     "metadata": {},
     "output_type": "execute_result"
    }
   ],
   "source": [
    "accs.acc.max()"
   ]
  },
  {
   "cell_type": "code",
   "execution_count": 57,
   "metadata": {
    "collapsed": false
   },
   "outputs": [
    {
     "name": "stdout",
     "output_type": "stream",
     "text": [
      "             precision    recall  f1-score   support\n",
      "\n",
      "    Control       0.00      0.00      0.00         6\n",
      "   Effect_1       0.00      0.00      0.00         9\n",
      "   Effect_2       0.00      0.00      0.00         9\n",
      "    Unknown       0.43      1.00      0.60        18\n",
      "\n",
      "avg / total       0.18      0.43      0.26        42\n",
      "\n"
     ]
    }
   ],
   "source": [
    "print classification_report(test_labels_collected, best)"
   ]
  },
  {
   "cell_type": "code",
   "execution_count": 58,
   "metadata": {
    "collapsed": false
   },
   "outputs": [
    {
     "name": "stdout",
     "output_type": "stream",
     "text": [
      "Best accuracy by choosing threshold = 42.857143%\n"
     ]
    }
   ],
   "source": [
    "print \"Best accuracy by choosing threshold = {:%}\".format(accuracy_score(test_labels_collected, best))"
   ]
  },
  {
   "cell_type": "code",
   "execution_count": null,
   "metadata": {
    "collapsed": true
   },
   "outputs": [],
   "source": []
  }
 ],
 "metadata": {
  "kernelspec": {
   "display_name": "Python 2",
   "language": "python",
   "name": "python2"
  },
  "language_info": {
   "codemirror_mode": {
    "name": "ipython",
    "version": 2
   },
   "file_extension": ".py",
   "mimetype": "text/x-python",
   "name": "python",
   "nbconvert_exporter": "python",
   "pygments_lexer": "ipython2",
   "version": "2.7.11"
  }
 },
 "nbformat": 4,
 "nbformat_minor": 0
}
