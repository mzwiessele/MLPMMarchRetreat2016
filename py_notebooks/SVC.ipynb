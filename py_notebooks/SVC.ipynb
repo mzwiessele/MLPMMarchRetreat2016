{
 "cells": [
  {
   "cell_type": "code",
   "execution_count": 1,
   "metadata": {
    "collapsed": false
   },
   "outputs": [],
   "source": [
    "from sklearn import svm\n",
    "import GPyOpt, numpy as np"
   ]
  },
  {
   "cell_type": "code",
   "execution_count": 2,
   "metadata": {
    "collapsed": false
   },
   "outputs": [
    {
     "name": "stdout",
     "output_type": "stream",
     "text": [
      "loading rnaseq data\n",
      "rnaseq_all_genes: (11216, 104)\n",
      "rnaseq_effector_genes: (1044, 104)\n",
      "rnaseq_mod_activities: (89, 104)\n",
      "rnaseq_mod_genevals: (172, 104)\n",
      "rnaseq_mod_nodevals: (462, 104)\n",
      "rnaseq_signaling_genes: (2184, 104)\n",
      "rnaseq_design: (104, 4)\n"
     ]
    }
   ],
   "source": [
    "%run collect_and_name_data.py rnaseq"
   ]
  },
  {
   "cell_type": "code",
   "execution_count": 3,
   "metadata": {
    "collapsed": true
   },
   "outputs": [],
   "source": [
    "from paramz import Model, Param"
   ]
  },
  {
   "cell_type": "code",
   "execution_count": 15,
   "metadata": {
    "collapsed": true
   },
   "outputs": [],
   "source": [
    "class ParamzSVC(Model):\n",
    "    def __init__(self, X, y, C=1., gamma=1., name='ParamzSVC'):\n",
    "        from sklearn.cross_validation import StratifiedKFold\n",
    "        super(ParamzSVC, self).__init__(name=name)\n",
    "\n",
    "        self.X = X\n",
    "        self.y = y\n",
    "        \n",
    "        self.C = Param('C', C)\n",
    "        self.gamma = Param('gamma', gamma)\n",
    "        self.link_parameter(self.C)\n",
    "        self.link_parameter(self.gamma)\n",
    "        self.sk = StratifiedKFold(train_labels, shuffle=True)\n",
    "        \n",
    "    def parameters_changed(self):\n",
    "        from sklearn.metrics import f1_score\n",
    "    \n",
    "        self._obj = 0.\n",
    "        #svc = svm.LinearSVC(C=float(self.C.values), class_weight='balanced')\n",
    "        svc = svm.SVC(C=float(self.C.values), \n",
    "                      gamma=float(self.gamma.values), \n",
    "                      kernel='rbf', \n",
    "                      decision_function_shape='ovr', \n",
    "                      probability=False, \n",
    "                      class_weight='balanced')\n",
    "    \n",
    "        for train_index, test_index in self.sk:\n",
    "            svc = svc.fit(self.X[train_index], self.y[train_index])\n",
    "            prediction = svc.predict(self.X[test_index])\n",
    "            self._obj += f1_score(self.y[test_index], prediction)/float(self.sk.n_folds)\n",
    "            \n",
    "    def objective_function(self):\n",
    "        import numpy as np\n",
    "        print self._obj,\n",
    "        return -np.atleast_1d(self._obj)"
   ]
  },
  {
   "cell_type": "code",
   "execution_count": 16,
   "metadata": {
    "collapsed": true
   },
   "outputs": [],
   "source": [
    "train_idx = design.Set == design.Set.unique()[0]\n",
    "test_idx = ~train_idx    \n",
    "\n",
    "train_labels = design.loc[train_idx, 'Effect']\n",
    "test_labels = design.loc[test_idx, 'Effect']"
   ]
  },
  {
   "cell_type": "code",
   "execution_count": 17,
   "metadata": {
    "collapsed": true
   },
   "outputs": [],
   "source": [
    "def get_train_test_set(data, train_idx, test_idx):\n",
    "    train_set = data.loc[:, train_idx].copy()\n",
    "    from sklearn.preprocessing import StandardScaler\n",
    "    normalizer = StandardScaler()\n",
    "    train_set[:] = normalizer.fit_transform(train_set.T).T\n",
    "\n",
    "    test_set = data.loc[:, test_idx].copy()\n",
    "    test_set[:] = normalizer.transform(test_set.T).T\n",
    "    \n",
    "    return train_set, test_set"
   ]
  },
  {
   "cell_type": "code",
   "execution_count": 18,
   "metadata": {
    "collapsed": false
   },
   "outputs": [],
   "source": [
    "def make_f(m):\n",
    "    def f(X):\n",
    "        ret = np.empty((X.shape[0],1))\n",
    "        for i in range(X.shape[0]):\n",
    "            ret[i] = m._objective(X[i])\n",
    "        return ret\n",
    "    return f"
   ]
  },
  {
   "cell_type": "code",
   "execution_count": null,
   "metadata": {
    "collapsed": false
   },
   "outputs": [
    {
     "name": "stdout",
     "output_type": "stream",
     "text": [
      "all_genes\n",
      "0.0699633699634 0.0699633699634 0.0699633699634 0.0699633699634 0.13080993081 0.0699633699634\n",
      "0.0699633699634 0.0699633699634 0.13080993081 0.0699633699634 0.0699633699634 0.0699633699634 0.13080993081 0.0699633699634 "
     ]
    }
   ],
   "source": [
    "train_errors = {}\n",
    "\n",
    "for i in range(len(all_data)):\n",
    "    data = all_data[i]\n",
    "    print data.name\n",
    "    train_set, test_set = get_train_test_set(data, train_idx, test_idx)\n",
    "    \n",
    "    m = ParamzSVC(train_set.T.values, train_labels.values)\n",
    "    m_opt = GPyOpt.methods.BayesianOptimization(make_f(m), \n",
    "                                            bounds=[\n",
    "                                                    (1e-100,.3),\n",
    "                                                    (0,1)\n",
    "                                                    ], \n",
    "                                            model_optimize_restarts = 40,\n",
    "                                            normalize=True,\n",
    "                                            acquisition = 'EI',\n",
    "                                            type_initial_design='latin')\n",
    "    print\n",
    "    m_opt.run_optimization(200, eps=1e-5)\n",
    "    print\n",
    "    train_errors[data.name] = [m_opt.fx_opt, m_opt.x_opt]"
   ]
  },
  {
   "cell_type": "code",
   "execution_count": 237,
   "metadata": {
    "collapsed": false
   },
   "outputs": [
    {
     "data": {
      "image/png": "[encoded data removed]",
      "text/plain": [
       "<matplotlib.figure.Figure at 0x124c64cd0>"
      ]
     },
     "metadata": {},
     "output_type": "display_data"
    }
   ],
   "source": [
    "m_opt.plot_acquisition()"
   ]
  },
  {
   "cell_type": "code",
   "execution_count": 253,
   "metadata": {
    "collapsed": false
   },
   "outputs": [
    {
     "data": {
      "text/plain": [
       "[[array([-0.82142857]), array([ 0.025])],\n",
       " [array([-0.85555556]), array([ 0.01746708])],\n",
       " [array([-0.87301587]), array([ 0.025])],\n",
       " [array([-0.9047619]), array([ 0.015])],\n",
       " [array([-0.91984127]), array([ 0.025])],\n",
       " [array([-0.93492063]), array([ 0.015])]]"
      ]
     },
     "execution_count": 253,
     "metadata": {},
     "output_type": "execute_result"
    }
   ],
   "source": [
    "train_errors.values()"
   ]
  },
  {
   "cell_type": "code",
   "execution_count": 256,
   "metadata": {
    "collapsed": false
   },
   "outputs": [],
   "source": [
    "results = pd.DataFrame(train_errors.values(), \n",
    "                       columns=['-acc', 'C', 'gamma'], \n",
    "                       index=train_errors.keys(),\n",
    "                       dtype=float)"
   ]
  },
  {
   "cell_type": "code",
   "execution_count": 257,
   "metadata": {
    "collapsed": false
   },
   "outputs": [
    {
     "data": {
      "text/html": [
       "<div>\n",
       "<table border=\"1\" class=\"dataframe\">\n",
       "  <thead>\n",
       "    <tr style=\"text-align: right;\">\n",
       "      <th></th>\n",
       "      <th>-acc</th>\n",
       "      <th>C</th>\n",
       "    </tr>\n",
       "  </thead>\n",
       "  <tbody>\n",
       "    <tr>\n",
       "      <th>mod_activities</th>\n",
       "      <td>-0.821429</td>\n",
       "      <td>0.025000</td>\n",
       "    </tr>\n",
       "    <tr>\n",
       "      <th>mod_genevalues</th>\n",
       "      <td>-0.855556</td>\n",
       "      <td>0.017467</td>\n",
       "    </tr>\n",
       "    <tr>\n",
       "      <th>mod_nodevalues</th>\n",
       "      <td>-0.873016</td>\n",
       "      <td>0.025000</td>\n",
       "    </tr>\n",
       "    <tr>\n",
       "      <th>effector_genes</th>\n",
       "      <td>-0.904762</td>\n",
       "      <td>0.015000</td>\n",
       "    </tr>\n",
       "    <tr>\n",
       "      <th>signaling_genes</th>\n",
       "      <td>-0.919841</td>\n",
       "      <td>0.025000</td>\n",
       "    </tr>\n",
       "    <tr>\n",
       "      <th>all_genes</th>\n",
       "      <td>-0.934921</td>\n",
       "      <td>0.015000</td>\n",
       "    </tr>\n",
       "  </tbody>\n",
       "</table>\n",
       "</div>"
      ],
      "text/plain": [
       "                     -acc         C\n",
       "mod_activities  -0.821429  0.025000\n",
       "mod_genevalues  -0.855556  0.017467\n",
       "mod_nodevalues  -0.873016  0.025000\n",
       "effector_genes  -0.904762  0.015000\n",
       "signaling_genes -0.919841  0.025000\n",
       "all_genes       -0.934921  0.015000"
      ]
     },
     "execution_count": 257,
     "metadata": {},
     "output_type": "execute_result"
    }
   ],
   "source": [
    "results"
   ]
  },
  {
   "cell_type": "markdown",
   "metadata": {},
   "source": [
    "## Work on all data with linear kernel:"
   ]
  },
  {
   "cell_type": "code",
   "execution_count": 258,
   "metadata": {
    "collapsed": true
   },
   "outputs": [],
   "source": [
    "svc = svm.SVC(C=results.loc['all_genes','C'], kernel='linear', decision_function_shape='ovr', probability=True, class_weight='balanced')"
   ]
  },
  {
   "cell_type": "code",
   "execution_count": 262,
   "metadata": {
    "collapsed": false
   },
   "outputs": [
    {
     "data": {
      "text/plain": [
       "SVC(C=0.014999999999999999, cache_size=200, class_weight='balanced',\n",
       "  coef0=0.0, decision_function_shape='ovr', degree=3, gamma='auto',\n",
       "  kernel='linear', max_iter=-1, probability=True, random_state=None,\n",
       "  shrinking=True, tol=0.001, verbose=False)"
      ]
     },
     "execution_count": 262,
     "metadata": {},
     "output_type": "execute_result"
    }
   ],
   "source": [
    "train_set, test_set = get_train_test_set(rnaseq_all_genes, train_idx, test_idx)\n",
    "svc.fit(train_set.T.values, train_labels)"
   ]
  },
  {
   "cell_type": "code",
   "execution_count": 264,
   "metadata": {
    "collapsed": true
   },
   "outputs": [],
   "source": [
    "prediction_labels = svc.predict(test_set.T.values)"
   ]
  },
  {
   "cell_type": "code",
   "execution_count": 269,
   "metadata": {
    "collapsed": false
   },
   "outputs": [],
   "source": [
    "prediction_probabilities = pd.DataFrame(svc.predict_proba(test_set.T.values), index=test_set.columns, columns=svc.classes_)"
   ]
  },
  {
   "cell_type": "code",
   "execution_count": 271,
   "metadata": {
    "collapsed": false
   },
   "outputs": [],
   "source": [
    "import seaborn as sns"
   ]
  },
  {
   "cell_type": "code",
   "execution_count": 300,
   "metadata": {
    "collapsed": false
   },
   "outputs": [],
   "source": [
    "sort = np.argsort(prediction_probabilities).values[:, ::-1]"
   ]
  },
  {
   "cell_type": "code",
   "execution_count": 446,
   "metadata": {
    "collapsed": true
   },
   "outputs": [],
   "source": [
    "test_labels.value_counts()\n",
    "test_labels_collected = test_labels.copy()\n",
    "test_labels_collected[(test_labels_collected=='Effect_6')+(test_labels_collected=='Effect_7')] = 'Unknown'\n",
    "#test_labels_collected = pd.get_dummies(test_labels_collected)"
   ]
  },
  {
   "cell_type": "code",
   "execution_count": 440,
   "metadata": {
    "collapsed": false
   },
   "outputs": [],
   "source": [
    "for _t in np.setdiff1d(prediction_probabilities.columns, test_labels_collected.columns):\n",
    "    test_labels_collected[_t] = 0"
   ]
  },
  {
   "cell_type": "code",
   "execution_count": null,
   "metadata": {
    "collapsed": true
   },
   "outputs": [],
   "source": []
  },
  {
   "cell_type": "code",
   "execution_count": 443,
   "metadata": {
    "collapsed": false
   },
   "outputs": [
    {
     "data": {
      "text/html": [
       "<div>\n",
       "<table border=\"1\" class=\"dataframe\">\n",
       "  <thead>\n",
       "    <tr style=\"text-align: right;\">\n",
       "      <th></th>\n",
       "      <th>Control</th>\n",
       "      <th>Effect_1</th>\n",
       "      <th>Effect_2</th>\n",
       "      <th>Effect_3</th>\n",
       "      <th>Effect_4</th>\n",
       "      <th>Effect_5</th>\n",
       "    </tr>\n",
       "  </thead>\n",
       "  <tbody>\n",
       "    <tr>\n",
       "      <th>RNAseq22</th>\n",
       "      <td>0.511994</td>\n",
       "      <td>0.018103</td>\n",
       "      <td>0.039995</td>\n",
       "      <td>0.158557</td>\n",
       "      <td>0.037280</td>\n",
       "      <td>0.234071</td>\n",
       "    </tr>\n",
       "    <tr>\n",
       "      <th>RNAseq23</th>\n",
       "      <td>0.062408</td>\n",
       "      <td>0.051182</td>\n",
       "      <td>0.516748</td>\n",
       "      <td>0.148369</td>\n",
       "      <td>0.080255</td>\n",
       "      <td>0.141038</td>\n",
       "    </tr>\n",
       "    <tr>\n",
       "      <th>RNAseq24</th>\n",
       "      <td>0.018346</td>\n",
       "      <td>0.113360</td>\n",
       "      <td>0.250784</td>\n",
       "      <td>0.023249</td>\n",
       "      <td>0.575354</td>\n",
       "      <td>0.018907</td>\n",
       "    </tr>\n",
       "    <tr>\n",
       "      <th>RNAseq25</th>\n",
       "      <td>0.008332</td>\n",
       "      <td>0.066352</td>\n",
       "      <td>0.041171</td>\n",
       "      <td>0.012338</td>\n",
       "      <td>0.862535</td>\n",
       "      <td>0.009272</td>\n",
       "    </tr>\n",
       "    <tr>\n",
       "      <th>RNAseq26</th>\n",
       "      <td>0.100400</td>\n",
       "      <td>0.068198</td>\n",
       "      <td>0.348709</td>\n",
       "      <td>0.071529</td>\n",
       "      <td>0.300874</td>\n",
       "      <td>0.110289</td>\n",
       "    </tr>\n",
       "  </tbody>\n",
       "</table>\n",
       "</div>"
      ],
      "text/plain": [
       "           Control  Effect_1  Effect_2  Effect_3  Effect_4  Effect_5\n",
       "RNAseq22  0.511994  0.018103  0.039995  0.158557  0.037280  0.234071\n",
       "RNAseq23  0.062408  0.051182  0.516748  0.148369  0.080255  0.141038\n",
       "RNAseq24  0.018346  0.113360  0.250784  0.023249  0.575354  0.018907\n",
       "RNAseq25  0.008332  0.066352  0.041171  0.012338  0.862535  0.009272\n",
       "RNAseq26  0.100400  0.068198  0.348709  0.071529  0.300874  0.110289"
      ]
     },
     "execution_count": 443,
     "metadata": {},
     "output_type": "execute_result"
    }
   ],
   "source": [
    "classification_report(test_labels_collected, prediction)"
   ]
  },
  {
   "cell_type": "code",
   "execution_count": 444,
   "metadata": {
    "collapsed": false
   },
   "outputs": [
    {
     "data": {
      "text/html": [
       "<div>\n",
       "<table border=\"1\" class=\"dataframe\">\n",
       "  <thead>\n",
       "    <tr style=\"text-align: right;\">\n",
       "      <th></th>\n",
       "      <th>Control</th>\n",
       "      <th>Effect_1</th>\n",
       "      <th>Effect_2</th>\n",
       "      <th>Unknown</th>\n",
       "      <th>Effect_3</th>\n",
       "      <th>Effect_4</th>\n",
       "      <th>Effect_5</th>\n",
       "    </tr>\n",
       "    <tr>\n",
       "      <th>SampleID_RNASeq</th>\n",
       "      <th></th>\n",
       "      <th></th>\n",
       "      <th></th>\n",
       "      <th></th>\n",
       "      <th></th>\n",
       "      <th></th>\n",
       "      <th></th>\n",
       "    </tr>\n",
       "  </thead>\n",
       "  <tbody>\n",
       "    <tr>\n",
       "      <th>RNAseq22</th>\n",
       "      <td>1.0</td>\n",
       "      <td>0.0</td>\n",
       "      <td>0.0</td>\n",
       "      <td>0.0</td>\n",
       "      <td>0</td>\n",
       "      <td>0</td>\n",
       "      <td>0</td>\n",
       "    </tr>\n",
       "    <tr>\n",
       "      <th>RNAseq23</th>\n",
       "      <td>0.0</td>\n",
       "      <td>0.0</td>\n",
       "      <td>1.0</td>\n",
       "      <td>0.0</td>\n",
       "      <td>0</td>\n",
       "      <td>0</td>\n",
       "      <td>0</td>\n",
       "    </tr>\n",
       "    <tr>\n",
       "      <th>RNAseq24</th>\n",
       "      <td>0.0</td>\n",
       "      <td>0.0</td>\n",
       "      <td>1.0</td>\n",
       "      <td>0.0</td>\n",
       "      <td>0</td>\n",
       "      <td>0</td>\n",
       "      <td>0</td>\n",
       "    </tr>\n",
       "    <tr>\n",
       "      <th>RNAseq25</th>\n",
       "      <td>0.0</td>\n",
       "      <td>0.0</td>\n",
       "      <td>1.0</td>\n",
       "      <td>0.0</td>\n",
       "      <td>0</td>\n",
       "      <td>0</td>\n",
       "      <td>0</td>\n",
       "    </tr>\n",
       "    <tr>\n",
       "      <th>RNAseq26</th>\n",
       "      <td>0.0</td>\n",
       "      <td>0.0</td>\n",
       "      <td>0.0</td>\n",
       "      <td>1.0</td>\n",
       "      <td>0</td>\n",
       "      <td>0</td>\n",
       "      <td>0</td>\n",
       "    </tr>\n",
       "  </tbody>\n",
       "</table>\n",
       "</div>"
      ],
      "text/plain": [
       "                 Control  Effect_1  Effect_2  Unknown  Effect_3  Effect_4  \\\n",
       "SampleID_RNASeq                                                             \n",
       "RNAseq22             1.0       0.0       0.0      0.0         0         0   \n",
       "RNAseq23             0.0       0.0       1.0      0.0         0         0   \n",
       "RNAseq24             0.0       0.0       1.0      0.0         0         0   \n",
       "RNAseq25             0.0       0.0       1.0      0.0         0         0   \n",
       "RNAseq26             0.0       0.0       0.0      1.0         0         0   \n",
       "\n",
       "                 Effect_5  \n",
       "SampleID_RNASeq            \n",
       "RNAseq22                0  \n",
       "RNAseq23                0  \n",
       "RNAseq24                0  \n",
       "RNAseq25                0  \n",
       "RNAseq26                0  "
      ]
     },
     "execution_count": 444,
     "metadata": {},
     "output_type": "execute_result"
    }
   ],
   "source": [
    "test_labels_collected.head()"
   ]
  },
  {
   "cell_type": "markdown",
   "metadata": {},
   "source": [
    "## Roc curve for each class:"
   ]
  },
  {
   "cell_type": "code",
   "execution_count": null,
   "metadata": {
    "collapsed": true
   },
   "outputs": [],
   "source": [
    "from sklearn.metrics import roc_curve, roc_auc_score, accuracy_score, precision_score, recall_score, f1_score"
   ]
  },
  {
   "cell_type": "code",
   "execution_count": 316,
   "metadata": {
    "collapsed": false
   },
   "outputs": [],
   "source": [
    "rocs = {}\n",
    "for c in prediction_probabilities.columns:\n",
    "    rocs[c] = roc_curve(test_labels_collected==c, prediction_probabilities[c])"
   ]
  },
  {
   "cell_type": "code",
   "execution_count": 322,
   "metadata": {
    "collapsed": false
   },
   "outputs": [
    {
     "data": {
      "text/plain": [
       "<matplotlib.legend.Legend at 0x126da0e90>"
      ]
     },
     "execution_count": 322,
     "metadata": {},
     "output_type": "execute_result"
    },
    {
     "data": {
      "image/png": "[encoded data removed]",
      "text/plain": [
       "<matplotlib.figure.Figure at 0x126824f50>"
      ]
     },
     "metadata": {},
     "output_type": "display_data"
    }
   ],
   "source": [
    "for name in rocs:\n",
    "    plt.plot(rocs[name][0], rocs[name][1], label=name)\n",
    "plt.legend()"
   ]
  },
  {
   "cell_type": "markdown",
   "metadata": {},
   "source": [
    "## Try to use the predicted probabilities to find unknown classes:"
   ]
  },
  {
   "cell_type": "code",
   "execution_count": 486,
   "metadata": {
    "collapsed": true
   },
   "outputs": [],
   "source": [
    "def predict_classes(prediction_probabilities, threshold):\n",
    "    import scipy\n",
    "    #sort = np.argsort(prediction_probabilities, 1).values[:, ::-1]\n",
    "    prediction = prediction_probabilities.idxmax(1)\n",
    "    score = prediction_probabilities.std(1)\n",
    "    prediction[score<threshold] = 'Unknown'\n",
    "    return prediction"
   ]
  },
  {
   "cell_type": "code",
   "execution_count": 489,
   "metadata": {
    "collapsed": false
   },
   "outputs": [],
   "source": [
    "thresholds = np.linspace(0,1,1000)\n",
    "accs = pd.DataFrame(columns=['acc', 'prec', 'recall'])\n",
    "for t in thresholds:\n",
    "    prediction = predict_classes(prediction_probabilities, t)\n",
    "    accs.loc[t] = [accuracy_score(test_labels_collected, prediction), precision_score(test_labels_collected, prediction), recall_score(test_labels_collected, prediction)]"
   ]
  },
  {
   "cell_type": "code",
   "execution_count": 490,
   "metadata": {
    "collapsed": false
   },
   "outputs": [
    {
     "data": {
      "text/plain": [
       "<matplotlib.axes._subplots.AxesSubplot at 0x103d55510>"
      ]
     },
     "execution_count": 490,
     "metadata": {},
     "output_type": "execute_result"
    },
    {
     "data": {
      "image/png": "[encoded data removed]",
      "text/plain": [
       "<matplotlib.figure.Figure at 0x127148c90>"
      ]
     },
     "metadata": {},
     "output_type": "display_data"
    }
   ],
   "source": [
    "accs.plot()"
   ]
  },
  {
   "cell_type": "code",
   "execution_count": 376,
   "metadata": {
    "collapsed": false
   },
   "outputs": [
    {
     "data": {
      "text/html": [
       "<div>\n",
       "<table border=\"1\" class=\"dataframe\">\n",
       "  <thead>\n",
       "    <tr style=\"text-align: right;\">\n",
       "      <th></th>\n",
       "      <th>Control</th>\n",
       "      <th>Effect_1</th>\n",
       "      <th>Effect_2</th>\n",
       "      <th>Effect_3</th>\n",
       "      <th>Effect_4</th>\n",
       "      <th>Effect_5</th>\n",
       "    </tr>\n",
       "  </thead>\n",
       "  <tbody>\n",
       "    <tr>\n",
       "      <th>RNAseq22</th>\n",
       "      <td>0.511994</td>\n",
       "      <td>0.018103</td>\n",
       "      <td>0.039995</td>\n",
       "      <td>0.158557</td>\n",
       "      <td>0.037280</td>\n",
       "      <td>0.234071</td>\n",
       "    </tr>\n",
       "    <tr>\n",
       "      <th>RNAseq23</th>\n",
       "      <td>0.062408</td>\n",
       "      <td>0.051182</td>\n",
       "      <td>0.516748</td>\n",
       "      <td>0.148369</td>\n",
       "      <td>0.080255</td>\n",
       "      <td>0.141038</td>\n",
       "    </tr>\n",
       "    <tr>\n",
       "      <th>RNAseq24</th>\n",
       "      <td>0.018346</td>\n",
       "      <td>0.113360</td>\n",
       "      <td>0.250784</td>\n",
       "      <td>0.023249</td>\n",
       "      <td>0.575354</td>\n",
       "      <td>0.018907</td>\n",
       "    </tr>\n",
       "    <tr>\n",
       "      <th>RNAseq25</th>\n",
       "      <td>0.008332</td>\n",
       "      <td>0.066352</td>\n",
       "      <td>0.041171</td>\n",
       "      <td>0.012338</td>\n",
       "      <td>0.862535</td>\n",
       "      <td>0.009272</td>\n",
       "    </tr>\n",
       "    <tr>\n",
       "      <th>RNAseq26</th>\n",
       "      <td>0.100400</td>\n",
       "      <td>0.068198</td>\n",
       "      <td>0.348709</td>\n",
       "      <td>0.071529</td>\n",
       "      <td>0.300874</td>\n",
       "      <td>0.110289</td>\n",
       "    </tr>\n",
       "  </tbody>\n",
       "</table>\n",
       "</div>"
      ],
      "text/plain": [
       "           Control  Effect_1  Effect_2  Effect_3  Effect_4  Effect_5\n",
       "RNAseq22  0.511994  0.018103  0.039995  0.158557  0.037280  0.234071\n",
       "RNAseq23  0.062408  0.051182  0.516748  0.148369  0.080255  0.141038\n",
       "RNAseq24  0.018346  0.113360  0.250784  0.023249  0.575354  0.018907\n",
       "RNAseq25  0.008332  0.066352  0.041171  0.012338  0.862535  0.009272\n",
       "RNAseq26  0.100400  0.068198  0.348709  0.071529  0.300874  0.110289"
      ]
     },
     "execution_count": 376,
     "metadata": {},
     "output_type": "execute_result"
    }
   ],
   "source": [
    "prediction_probabilities.head()"
   ]
  },
  {
   "cell_type": "code",
   "execution_count": 80,
   "metadata": {
    "collapsed": false
   },
   "outputs": [
    {
     "name": "stdout",
     "output_type": "stream",
     "text": [
      "             precision    recall  f1-score   support\n",
      "\n",
      "    Control       1.00      0.50      0.67         6\n",
      "   Effect_1       0.86      0.67      0.75         9\n",
      "   Effect_2       0.29      0.44      0.35         9\n",
      "   Effect_3       0.00      0.00      0.00         0\n",
      "   Effect_4       0.00      0.00      0.00         0\n",
      "   Effect_6       0.00      0.00      0.00         9\n",
      "   Effect_7       0.00      0.00      0.00         9\n",
      "\n",
      "avg / total       0.39      0.31      0.33        42\n",
      "\n"
     ]
    },
    {
     "name": "stderr",
     "output_type": "stream",
     "text": [
      "/Users/maxz/anaconda/lib/python2.7/site-packages/sklearn/metrics/classification.py:1074: UndefinedMetricWarning: Precision and F-score are ill-defined and being set to 0.0 in labels with no predicted samples.\n",
      "  'precision', 'predicted', average, warn_for)\n",
      "/Users/maxz/anaconda/lib/python2.7/site-packages/sklearn/metrics/classification.py:1076: UndefinedMetricWarning: Recall and F-score are ill-defined and being set to 0.0 in labels with no true samples.\n",
      "  'recall', 'true', average, warn_for)\n"
     ]
    }
   ],
   "source": [
    "print classification_report(test_labels, prediction)"
   ]
  },
  {
   "cell_type": "code",
   "execution_count": 85,
   "metadata": {
    "collapsed": false
   },
   "outputs": [
    {
     "data": {
      "text/plain": [
       "Effect_2    14\n",
       "Effect_4    12\n",
       "Effect_1     7\n",
       "Effect_3     6\n",
       "Control      3\n",
       "dtype: int64"
      ]
     },
     "execution_count": 85,
     "metadata": {},
     "output_type": "execute_result"
    }
   ],
   "source": [
    "pd.value_counts(prediction)"
   ]
  },
  {
   "cell_type": "code",
   "execution_count": 83,
   "metadata": {
    "collapsed": false
   },
   "outputs": [
    {
     "name": "stdout",
     "output_type": "stream",
     "text": [
      "0.309523809524\n"
     ]
    }
   ],
   "source": [
    "print accuracy_score(test_labels, prediction)"
   ]
  },
  {
   "cell_type": "code",
   "execution_count": null,
   "metadata": {
    "collapsed": true
   },
   "outputs": [],
   "source": []
  }
 ],
 "metadata": {
  "kernelspec": {
   "display_name": "Python 2",
   "language": "python",
   "name": "python2"
  },
  "language_info": {
   "codemirror_mode": {
    "name": "ipython",
    "version": 2
   },
   "file_extension": ".py",
   "mimetype": "text/x-python",
   "name": "python",
   "nbconvert_exporter": "python",
   "pygments_lexer": "ipython2",
   "version": "2.7.11"
  }
 },
 "nbformat": 4,
 "nbformat_minor": 0
}
